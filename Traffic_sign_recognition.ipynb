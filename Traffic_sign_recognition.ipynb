{
  "nbformat": 4,
  "nbformat_minor": 0,
  "metadata": {
    "colab": {
      "name": "Traffic_sign_recognition.ipynb",
      "provenance": []
    },
    "kernelspec": {
      "name": "python3",
      "display_name": "Python 3"
    },
    "accelerator": "GPU"
  },
  "cells": [
    {
      "cell_type": "code",
      "metadata": {
        "id": "8ro_mH55Hna9"
      },
      "source": [
        "import csv\r\n",
        "import cv2 as cv\r\n",
        "import numpy\r\n",
        "import keras.backend as K\r\n",
        "from keras.layers import Input, Conv2D, Activation, MaxPool2D, Flatten, Dense, BatchNormalization, Dropout\r\n",
        "from keras import optimizers\r\n",
        "from keras.applications.vgg16 import VGG16\r\n",
        "from keras.initializers import glorot_uniform\r\n",
        "from keras.models import Model, Sequential\r\n",
        "from keras.utils import to_categorical\r\n",
        "from keras.regularizers import l2\r\n",
        "from keras.preprocessing.image import ImageDataGenerator\r\n",
        "from sklearn.model_selection import train_test_split"
      ],
      "execution_count": null,
      "outputs": []
    },
    {
      "cell_type": "code",
      "metadata": {
        "colab": {
          "base_uri": "https://localhost:8080/"
        },
        "id": "OAYIGRHtEe_J",
        "outputId": "e161c12b-f526-47a0-c19d-9d24ee43dbb6"
      },
      "source": [
        "X_train = []\r\n",
        "Y_train = []\r\n",
        "\r\n",
        "with open('/content/drive/MyDrive/images_color.csv', 'r') as f:\r\n",
        "  reader = csv.reader(f)\r\n",
        "  for row in reader:\r\n",
        "    if row[0]!='':\r\n",
        "      label = row[0]\r\n",
        "      image = numpy.array([int(a) for a in row[1:]], dtype='uint8')\r\n",
        "      image = image.reshape((32, 32, 3))\r\n",
        "      image = cv.resize(image,(64, 64))\r\n",
        "      X_train.append(image)\r\n",
        "      Y_train.append(label)\r\n",
        "\r\n",
        "X_train, _, Y_train, _ = train_test_split(X_train, Y_train, train_size=39208)\r\n",
        "X_train = numpy.array(X_train)\r\n",
        "Y_train = numpy.array(Y_train)\r\n",
        "\r\n",
        "Y_train = to_categorical(Y_train)\r\n",
        "print(X_train.shape)\r\n",
        "print(Y_train.shape)\r\n"
      ],
      "execution_count": null,
      "outputs": [
        {
          "output_type": "stream",
          "text": [
            "(39208, 64, 64, 3)\n",
            "(39208, 43)\n"
          ],
          "name": "stdout"
        }
      ]
    },
    {
      "cell_type": "code",
      "metadata": {
        "colab": {
          "base_uri": "https://localhost:8080/"
        },
        "id": "HQbK3j4uEUVd",
        "outputId": "be1bdc06-721a-4dc0-abad-149e896aba03"
      },
      "source": [
        "X_test = []\r\n",
        "Y_test = []\r\n",
        "\r\n",
        "with open('/content/drive/MyDrive/test_set_in_csv.csv', 'r') as f:\r\n",
        "  reader = csv.reader(f)\r\n",
        "  header = next(reader)\r\n",
        "  for row in reader:\r\n",
        "    if len(row)!=0:\r\n",
        "      label = row[0]\r\n",
        "      image = numpy.array([int(a) for a in row[1:]], dtype='uint8')\r\n",
        "      image = image.reshape((32, 32, 3))\r\n",
        "      image = cv.resize(image, (64, 64))\r\n",
        "      X_test.append(image)\r\n",
        "      Y_test.append(label)\r\n",
        "\r\n",
        "X_test = numpy.array(X_test)\r\n",
        "Y_test = numpy.array(Y_test)\r\n",
        "\r\n",
        "Y_test = to_categorical(Y_test)\r\n",
        "print(X_test.shape)\r\n",
        "print(Y_test.shape)"
      ],
      "execution_count": null,
      "outputs": [
        {
          "output_type": "stream",
          "text": [
            "(12629, 64, 64, 3)\n",
            "(12629, 43)\n"
          ],
          "name": "stdout"
        }
      ]
    },
    {
      "cell_type": "code",
      "metadata": {
        "id": "x-4Z164-V25t"
      },
      "source": [
        "def recall_m(y_true, y_pred):\r\n",
        "    y_true = K.ones_like(y_true) \r\n",
        "    true_positives = K.sum(K.round(K.clip(y_true * y_pred, 0, 1)))\r\n",
        "    all_positives = K.sum(K.round(K.clip(y_true, 0, 1)))\r\n",
        "    \r\n",
        "    recall = true_positives / (all_positives + K.epsilon())\r\n",
        "    return recall\r\n",
        "\r\n",
        "def precision_m(y_true, y_pred):\r\n",
        "    y_true = K.ones_like(y_true) \r\n",
        "    true_positives = K.sum(K.round(K.clip(y_true * y_pred, 0, 1)))\r\n",
        "    \r\n",
        "    predicted_positives = K.sum(K.round(K.clip(y_pred, 0, 1)))\r\n",
        "    precision = true_positives / (predicted_positives + K.epsilon())\r\n",
        "    return precision\r\n",
        "\r\n",
        "def f1_score(y_true, y_pred):\r\n",
        "    precision = precision_m(y_true, y_pred)\r\n",
        "    recall = recall_m(y_true, y_pred)\r\n",
        "    return 2*((precision*recall)/(precision+recall+K.epsilon()))"
      ],
      "execution_count": null,
      "outputs": []
    },
    {
      "cell_type": "code",
      "metadata": {
        "colab": {
          "base_uri": "https://localhost:8080/"
        },
        "id": "CQuIQEGrCVNn",
        "outputId": "4d257b5e-2f94-4b40-95a3-7c1b26bf7b80"
      },
      "source": [
        "def tsr_model(input_shape=(64, 64, 3)):\r\n",
        "  model = Sequential()\r\n",
        "  model.add(Input(input_shape))\r\n",
        "  model.add(Conv2D(32, (3, 3), strides=(1, 1), padding='same', kernel_initializer=glorot_uniform(seed=0), activation='relu', name='conv1'))\r\n",
        "  model.add(Conv2D(32, (3, 3), strides=(1, 1), padding='same', kernel_initializer=glorot_uniform(seed=0), activation='relu', name='conv2'))\r\n",
        "  model.add(MaxPool2D((4, 4), strides=(4, 4)))\r\n",
        "  model.add(Dropout(0.2))\r\n",
        "  model.add(Conv2D(128, (3, 3), strides=(1, 1), padding='same', kernel_initializer=glorot_uniform(seed=0), activation='relu', name='conv3'))\r\n",
        "  model.add(Conv2D(128, (3, 3), strides=(1, 1), padding='same', kernel_initializer=glorot_uniform(seed=0), activation='relu', name='conv4'))\r\n",
        "  model.add(MaxPool2D((4, 4), strides=(4, 4)))\r\n",
        "  model.add(Dropout(0.2))\r\n",
        "  model.add(Conv2D(512, (3, 3), strides=(1, 1), padding='same', kernel_initializer=glorot_uniform(seed=0), activation='relu', name='conv5'))\r\n",
        "  model.add(Conv2D(512, (3, 3), strides=(1, 1), padding='same', kernel_initializer=glorot_uniform(seed=0), activation='relu', name='conv6'))\r\n",
        "  model.add(Conv2D(512, (3, 3), strides=(1, 1), padding='same', kernel_initializer=glorot_uniform(seed=0), activation='relu', name='conv7'))\r\n",
        "  model.add(MaxPool2D((2, 2), strides=(2, 2)))\r\n",
        "  model.add(Dropout(0.5))\r\n",
        "  model.add(Flatten())\r\n",
        "  model.add(Dense(2048, activation='relu', kernel_initializer=glorot_uniform(seed=0), name='fc1'))\r\n",
        "  model.add(BatchNormalization())\r\n",
        "  model.add(Dropout(0.5))\r\n",
        "  model.add(Dense(2048, activation='relu', kernel_initializer=glorot_uniform(seed=0), name='fc2'))\r\n",
        "  model.add(BatchNormalization())\r\n",
        "  model.add(Dropout(0.5))\r\n",
        "  model.add(Dense(43, activation='softmax', kernel_initializer=glorot_uniform(seed=0), name='fc3'))\r\n",
        "\r\n",
        "  model.compile(optimizer='adam', loss='categorical_crossentropy', metrics=['accuracy'])\r\n",
        "  return model\r\n",
        "\r\n",
        "model = tsr_model(input_shape=(64, 64, 3))\r\n",
        "model.summary()"
      ],
      "execution_count": null,
      "outputs": [
        {
          "output_type": "stream",
          "text": [
            "Model: \"sequential\"\n",
            "_________________________________________________________________\n",
            "Layer (type)                 Output Shape              Param #   \n",
            "=================================================================\n",
            "conv1 (Conv2D)               (None, 64, 64, 32)        896       \n",
            "_________________________________________________________________\n",
            "conv2 (Conv2D)               (None, 64, 64, 32)        9248      \n",
            "_________________________________________________________________\n",
            "max_pooling2d (MaxPooling2D) (None, 16, 16, 32)        0         \n",
            "_________________________________________________________________\n",
            "dropout (Dropout)            (None, 16, 16, 32)        0         \n",
            "_________________________________________________________________\n",
            "conv3 (Conv2D)               (None, 16, 16, 128)       36992     \n",
            "_________________________________________________________________\n",
            "conv4 (Conv2D)               (None, 16, 16, 128)       147584    \n",
            "_________________________________________________________________\n",
            "max_pooling2d_1 (MaxPooling2 (None, 4, 4, 128)         0         \n",
            "_________________________________________________________________\n",
            "dropout_1 (Dropout)          (None, 4, 4, 128)         0         \n",
            "_________________________________________________________________\n",
            "conv5 (Conv2D)               (None, 4, 4, 512)         590336    \n",
            "_________________________________________________________________\n",
            "conv6 (Conv2D)               (None, 4, 4, 512)         2359808   \n",
            "_________________________________________________________________\n",
            "conv7 (Conv2D)               (None, 4, 4, 512)         2359808   \n",
            "_________________________________________________________________\n",
            "max_pooling2d_2 (MaxPooling2 (None, 2, 2, 512)         0         \n",
            "_________________________________________________________________\n",
            "dropout_2 (Dropout)          (None, 2, 2, 512)         0         \n",
            "_________________________________________________________________\n",
            "flatten (Flatten)            (None, 2048)              0         \n",
            "_________________________________________________________________\n",
            "fc1 (Dense)                  (None, 2048)              4196352   \n",
            "_________________________________________________________________\n",
            "batch_normalization (BatchNo (None, 2048)              8192      \n",
            "_________________________________________________________________\n",
            "dropout_3 (Dropout)          (None, 2048)              0         \n",
            "_________________________________________________________________\n",
            "fc2 (Dense)                  (None, 2048)              4196352   \n",
            "_________________________________________________________________\n",
            "batch_normalization_1 (Batch (None, 2048)              8192      \n",
            "_________________________________________________________________\n",
            "dropout_4 (Dropout)          (None, 2048)              0         \n",
            "_________________________________________________________________\n",
            "fc3 (Dense)                  (None, 43)                88107     \n",
            "=================================================================\n",
            "Total params: 14,001,867\n",
            "Trainable params: 13,993,675\n",
            "Non-trainable params: 8,192\n",
            "_________________________________________________________________\n"
          ],
          "name": "stdout"
        }
      ]
    },
    {
      "cell_type": "code",
      "metadata": {
        "colab": {
          "base_uri": "https://localhost:8080/"
        },
        "id": "vz-yNCvdEwGy",
        "outputId": "e4dd5e39-a0ce-4c3b-eb0d-7803742d6605"
      },
      "source": [
        "aug = ImageDataGenerator(rotation_range=10,\r\n",
        "\tzoom_range=0.15,\r\n",
        "\twidth_shift_range=0.1,\r\n",
        "\theight_shift_range=0.1,\r\n",
        "\tshear_range=0.15,\r\n",
        "\thorizontal_flip=False,\r\n",
        "\tvertical_flip=False,\r\n",
        "\tfill_mode=\"nearest\")\r\n",
        "\r\n",
        "model.fit(aug.flow(X_train, Y_train, batch_size=128), epochs=30, batch_size=128, validation_data=(X_test, Y_test))"
      ],
      "execution_count": null,
      "outputs": [
        {
          "output_type": "stream",
          "text": [
            "Epoch 1/30\n",
            "307/307 [==============================] - 57s 174ms/step - loss: 4.5362 - accuracy: 0.0569 - val_loss: 3.4829 - val_accuracy: 0.0774\n",
            "Epoch 2/30\n",
            "307/307 [==============================] - 53s 172ms/step - loss: 3.6506 - accuracy: 0.0788 - val_loss: 3.3017 - val_accuracy: 0.1036\n",
            "Epoch 3/30\n",
            "307/307 [==============================] - 52s 170ms/step - loss: 3.5498 - accuracy: 0.0860 - val_loss: 3.0621 - val_accuracy: 0.1310\n",
            "Epoch 4/30\n",
            "307/307 [==============================] - 52s 170ms/step - loss: 2.6540 - accuracy: 0.2287 - val_loss: 2.3940 - val_accuracy: 0.2721\n",
            "Epoch 5/30\n",
            "307/307 [==============================] - 52s 170ms/step - loss: 1.8085 - accuracy: 0.3973 - val_loss: 1.7544 - val_accuracy: 0.4464\n",
            "Epoch 6/30\n",
            "307/307 [==============================] - 53s 174ms/step - loss: 1.7602 - accuracy: 0.4389 - val_loss: 1.0996 - val_accuracy: 0.6534\n",
            "Epoch 7/30\n",
            "307/307 [==============================] - 53s 171ms/step - loss: 0.9445 - accuracy: 0.6743 - val_loss: 0.5233 - val_accuracy: 0.8381\n",
            "Epoch 8/30\n",
            "307/307 [==============================] - 53s 173ms/step - loss: 0.9079 - accuracy: 0.7181 - val_loss: 0.4883 - val_accuracy: 0.8553\n",
            "Epoch 9/30\n",
            "307/307 [==============================] - 53s 172ms/step - loss: 0.5135 - accuracy: 0.8295 - val_loss: 0.4167 - val_accuracy: 0.8771\n",
            "Epoch 10/30\n",
            "307/307 [==============================] - 53s 172ms/step - loss: 0.3720 - accuracy: 0.8845 - val_loss: 0.2785 - val_accuracy: 0.9159\n",
            "Epoch 11/30\n",
            "307/307 [==============================] - 53s 172ms/step - loss: 0.2640 - accuracy: 0.9171 - val_loss: 0.2704 - val_accuracy: 0.9272\n",
            "Epoch 12/30\n",
            "307/307 [==============================] - 53s 171ms/step - loss: 0.1995 - accuracy: 0.9396 - val_loss: 0.2546 - val_accuracy: 0.9375\n",
            "Epoch 13/30\n",
            "307/307 [==============================] - 52s 171ms/step - loss: 0.1793 - accuracy: 0.9428 - val_loss: 0.2273 - val_accuracy: 0.9363\n",
            "Epoch 14/30\n",
            "307/307 [==============================] - 52s 169ms/step - loss: 0.1559 - accuracy: 0.9524 - val_loss: 0.1715 - val_accuracy: 0.9518\n",
            "Epoch 15/30\n",
            "307/307 [==============================] - 52s 169ms/step - loss: 0.1560 - accuracy: 0.9542 - val_loss: 0.2412 - val_accuracy: 0.9310\n",
            "Epoch 16/30\n",
            "307/307 [==============================] - 52s 169ms/step - loss: 0.1380 - accuracy: 0.9588 - val_loss: 0.1866 - val_accuracy: 0.9525\n",
            "Epoch 17/30\n",
            "307/307 [==============================] - 52s 170ms/step - loss: 0.1175 - accuracy: 0.9648 - val_loss: 0.1551 - val_accuracy: 0.9580\n",
            "Epoch 18/30\n",
            "307/307 [==============================] - 52s 171ms/step - loss: 0.1118 - accuracy: 0.9659 - val_loss: 0.1816 - val_accuracy: 0.9511\n",
            "Epoch 19/30\n",
            "307/307 [==============================] - 52s 170ms/step - loss: 0.1040 - accuracy: 0.9702 - val_loss: 0.2182 - val_accuracy: 0.9482\n",
            "Epoch 20/30\n",
            "307/307 [==============================] - 52s 170ms/step - loss: 0.0988 - accuracy: 0.9718 - val_loss: 0.1995 - val_accuracy: 0.9524\n",
            "Epoch 21/30\n",
            "307/307 [==============================] - 52s 170ms/step - loss: 0.1014 - accuracy: 0.9710 - val_loss: 0.1925 - val_accuracy: 0.9487\n",
            "Epoch 22/30\n",
            "307/307 [==============================] - 52s 169ms/step - loss: 0.1063 - accuracy: 0.9692 - val_loss: 0.1855 - val_accuracy: 0.9526\n",
            "Epoch 23/30\n",
            "307/307 [==============================] - 53s 174ms/step - loss: 0.0747 - accuracy: 0.9799 - val_loss: 0.1684 - val_accuracy: 0.9596\n",
            "Epoch 24/30\n",
            "307/307 [==============================] - 53s 171ms/step - loss: 0.0674 - accuracy: 0.9803 - val_loss: 0.1678 - val_accuracy: 0.9604\n",
            "Epoch 25/30\n",
            "307/307 [==============================] - 53s 172ms/step - loss: 0.0755 - accuracy: 0.9798 - val_loss: 0.1515 - val_accuracy: 0.9623\n",
            "Epoch 26/30\n",
            "307/307 [==============================] - 52s 170ms/step - loss: 0.0658 - accuracy: 0.9812 - val_loss: 0.1565 - val_accuracy: 0.9625\n",
            "Epoch 27/30\n",
            "307/307 [==============================] - 52s 170ms/step - loss: 0.0563 - accuracy: 0.9838 - val_loss: 0.1869 - val_accuracy: 0.9578\n",
            "Epoch 28/30\n",
            "307/307 [==============================] - 52s 171ms/step - loss: 0.0601 - accuracy: 0.9829 - val_loss: 0.1886 - val_accuracy: 0.9603\n",
            "Epoch 29/30\n",
            "307/307 [==============================] - 52s 171ms/step - loss: 0.0568 - accuracy: 0.9847 - val_loss: 0.1872 - val_accuracy: 0.9598\n",
            "Epoch 30/30\n",
            "307/307 [==============================] - 52s 170ms/step - loss: 0.0519 - accuracy: 0.9860 - val_loss: 0.1467 - val_accuracy: 0.9682\n"
          ],
          "name": "stdout"
        },
        {
          "output_type": "execute_result",
          "data": {
            "text/plain": [
              "<tensorflow.python.keras.callbacks.History at 0x7f8b5f7aa510>"
            ]
          },
          "metadata": {
            "tags": []
          },
          "execution_count": 5
        }
      ]
    },
    {
      "cell_type": "code",
      "metadata": {
        "colab": {
          "base_uri": "https://localhost:8080/",
          "height": 573
        },
        "id": "mqBRHQD-eh8K",
        "outputId": "d96d6566-cd1e-4687-f2a8-9ed4f8d5151f"
      },
      "source": [
        "from matplotlib import pyplot as plt\r\n",
        "plt.plot(model.history.history['accuracy'])\r\n",
        "plt.title('Model Accuracy')\r\n",
        "plt.xlabel('Epochs')\r\n",
        "plt.ylabel('Accuracy')\r\n",
        "plt.show()\r\n",
        "\r\n",
        "plt.plot(model.history.history['loss'])\r\n",
        "plt.title('Model Loss')\r\n",
        "plt.xlabel('Epochs')\r\n",
        "plt.ylabel('Loss')\r\n",
        "plt.show()"
      ],
      "execution_count": null,
      "outputs": [
        {
          "output_type": "display_data",
          "data": {
            "image/png": "[encoded data removed]",
            "text/plain": [
              "<Figure size 432x288 with 1 Axes>"
            ]
          },
          "metadata": {
            "tags": [],
            "needs_background": "light"
          }
        },
        {
          "output_type": "display_data",
          "data": {
            "image/png": "[encoded data removed]",
            "text/plain": [
              "<Figure size 432x288 with 1 Axes>"
            ]
          },
          "metadata": {
            "tags": [],
            "needs_background": "light"
          }
        }
      ]
    },
    {
      "cell_type": "code",
      "metadata": {
        "id": "g7p1zMcisI7f"
      },
      "source": [
        "model.save('/content/drive/MyDrive/tsr_model_v5.h5')"
      ],
      "execution_count": null,
      "outputs": []
    },
    {
      "cell_type": "code",
      "metadata": {
        "id": "15RSzjNeo5y0"
      },
      "source": [
        "from keras.models import load_model\r\n",
        "import cv2 as cv\r\n",
        "import numpy\r\n",
        "import csv\r\n",
        "from keras.utils import to_categorical\r\n",
        "model = load_model('/content/drive/MyDrive/tsr_model_v5.h5')"
      ],
      "execution_count": null,
      "outputs": []
    },
    {
      "cell_type": "code",
      "metadata": {
        "colab": {
          "base_uri": "https://localhost:8080/"
        },
        "id": "VEY1JlrzqYFP",
        "outputId": "4c1766ca-b7a2-4a0f-ee88-0a198f7fee01"
      },
      "source": [
        "prediction = model.evaluate(X_test, Y_test)\r\n",
        "print('loss : {}'.format(prediction[0]))\r\n",
        "print('accuracy: {}'.format(prediction[1]))"
      ],
      "execution_count": null,
      "outputs": [
        {
          "output_type": "stream",
          "text": [
            "395/395 [==============================] - 3s 8ms/step - loss: 0.1467 - accuracy: 0.9682\n",
            "loss : 0.14668776094913483\n",
            "accuracy: 0.9681684970855713\n"
          ],
          "name": "stdout"
        }
      ]
    },
    {
      "cell_type": "code",
      "metadata": {
        "colab": {
          "base_uri": "https://localhost:8080/"
        },
        "id": "WG2QE1Gg8Ntm",
        "outputId": "bb49f4b0-e0dc-4ba1-d237-e07a0ea16795"
      },
      "source": [
        "from sklearn.metrics import classification_report\r\n",
        "import numpy\r\n",
        "\r\n",
        "y_pred = model.predict(X_test)\r\n",
        "y_pred = numpy.argmax(y_pred, axis=1)\r\n",
        "Y_test = numpy.argmax(Y_test, axis=1)\r\n",
        "print(classification_report(Y_test, y_pred))"
      ],
      "execution_count": null,
      "outputs": [
        {
          "output_type": "stream",
          "text": [
            "              precision    recall  f1-score   support\n",
            "\n",
            "           0       1.00      1.00      1.00        59\n",
            "           1       0.99      0.99      0.99       720\n",
            "           2       0.97      0.99      0.98       750\n",
            "           3       0.98      0.97      0.98       450\n",
            "           4       0.99      0.97      0.98       660\n",
            "           5       0.96      0.97      0.97       630\n",
            "           6       1.00      0.89      0.94       150\n",
            "           7       0.99      0.94      0.97       450\n",
            "           8       0.95      0.96      0.96       450\n",
            "           9       0.99      1.00      1.00       480\n",
            "          10       1.00      0.99      0.99       660\n",
            "          11       0.92      0.99      0.95       420\n",
            "          12       1.00      0.97      0.98       690\n",
            "          13       0.99      0.99      0.99       720\n",
            "          14       1.00      1.00      1.00       270\n",
            "          15       1.00      1.00      1.00       210\n",
            "          16       1.00      1.00      1.00       150\n",
            "          17       1.00      0.92      0.96       360\n",
            "          18       0.95      0.92      0.93       390\n",
            "          19       0.92      1.00      0.96        60\n",
            "          20       0.88      1.00      0.94        90\n",
            "          21       0.65      0.73      0.69        90\n",
            "          22       0.99      0.86      0.92       120\n",
            "          23       0.94      0.99      0.96       150\n",
            "          24       0.99      0.97      0.98        90\n",
            "          25       0.96      0.95      0.96       480\n",
            "          26       0.93      1.00      0.97       180\n",
            "          27       0.94      0.50      0.65        60\n",
            "          28       0.97      0.98      0.98       150\n",
            "          29       0.98      0.97      0.97        90\n",
            "          30       0.93      0.90      0.92       150\n",
            "          31       0.99      0.99      0.99       270\n",
            "          32       0.97      1.00      0.98        60\n",
            "          33       0.98      0.90      0.94       210\n",
            "          34       0.98      1.00      0.99       120\n",
            "          35       0.98      0.98      0.98       390\n",
            "          36       1.00      0.94      0.97       120\n",
            "          37       1.00      0.98      0.99        60\n",
            "          38       0.91      0.99      0.94       690\n",
            "          39       0.75      0.99      0.85        90\n",
            "          40       0.85      0.92      0.88        90\n",
            "          41       1.00      0.98      0.99        60\n",
            "          42       0.98      0.99      0.98        90\n",
            "\n",
            "    accuracy                           0.97     12629\n",
            "   macro avg       0.96      0.95      0.95     12629\n",
            "weighted avg       0.97      0.97      0.97     12629\n",
            "\n"
          ],
          "name": "stdout"
        }
      ]
    },
    {
      "cell_type": "code",
      "metadata": {
        "id": "8zlVBB5Y9MpF"
      },
      "source": [
        ""
      ],
      "execution_count": null,
      "outputs": []
    }
  ]
}