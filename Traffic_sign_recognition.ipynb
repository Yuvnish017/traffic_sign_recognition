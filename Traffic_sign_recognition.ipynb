{
  "nbformat": 4,
  "nbformat_minor": 0,
  "metadata": {
    "colab": {
      "name": "Traffic_sign_recognition.ipynb",
      "provenance": []
    },
    "kernelspec": {
      "name": "python3",
      "display_name": "Python 3"
    },
    "accelerator": "GPU"
  },
  "cells": [
    {
      "cell_type": "code",
      "metadata": {
        "id": "8ro_mH55Hna9"
      },
      "source": [
        "import csv\r\n",
        "import cv2 as cv\r\n",
        "import numpy\r\n",
        "from keras.layers import Input, Conv2D, Activation, MaxPool2D, Flatten, Dense, BatchNormalization, Dropout\r\n",
        "from keras import optimizers\r\n",
        "from keras.applications.vgg16 import VGG16\r\n",
        "from keras.initializers import glorot_uniform\r\n",
        "from keras.models import Model, Sequential\r\n",
        "from keras.utils import to_categorical\r\n",
        "from keras.regularizers import l2\r\n",
        "from keras.preprocessing.image import ImageDataGenerator\r\n",
        "from sklearn.model_selection import train_test_split"
      ],
      "execution_count": null,
      "outputs": []
    },
    {
      "cell_type": "code",
      "metadata": {
        "colab": {
          "base_uri": "https://localhost:8080/"
        },
        "id": "OAYIGRHtEe_J",
        "outputId": "5aa56a19-97a6-4c7f-ea9c-51b04f9b2534"
      },
      "source": [
        "X_train = []\r\n",
        "Y_train = []\r\n",
        "\r\n",
        "with open('/content/drive/MyDrive/images_color.csv', 'r') as f:\r\n",
        "  reader = csv.reader(f)\r\n",
        "  for row in reader:\r\n",
        "    if row[0]!='':\r\n",
        "      label = row[0]\r\n",
        "      image = numpy.array([int(a) for a in row[1:]], dtype='uint8')\r\n",
        "      image = image.reshape((32, 32, 3))\r\n",
        "      image = cv.resize(image,(64, 64))\r\n",
        "      X_train.append(image)\r\n",
        "      Y_train.append(label)\r\n",
        "\r\n",
        "X_train, _, Y_train, _ = train_test_split(X_train, Y_train, train_size=39208)\r\n",
        "X_train = numpy.array(X_train)\r\n",
        "Y_train = numpy.array(Y_train)\r\n",
        "\r\n",
        "Y_train = to_categorical(Y_train)\r\n",
        "print(X_train.shape)\r\n",
        "print(Y_train.shape)\r\n"
      ],
      "execution_count": null,
      "outputs": [
        {
          "output_type": "stream",
          "text": [
            "(39208, 64, 64, 3)\n",
            "(39208, 43)\n"
          ],
          "name": "stdout"
        }
      ]
    },
    {
      "cell_type": "code",
      "metadata": {
        "colab": {
          "base_uri": "https://localhost:8080/"
        },
        "id": "HQbK3j4uEUVd",
        "outputId": "9d52c4b3-24c2-4bdf-d113-65ebaea145ac"
      },
      "source": [
        "X_test = []\r\n",
        "Y_test = []\r\n",
        "\r\n",
        "with open('/content/drive/MyDrive/test_set_in_csv.csv', 'r') as f:\r\n",
        "  reader = csv.reader(f)\r\n",
        "  header = next(reader)\r\n",
        "  for row in reader:\r\n",
        "    if len(row)!=0:\r\n",
        "      label = row[0]\r\n",
        "      image = numpy.array([int(a) for a in row[1:]], dtype='uint8')\r\n",
        "      image = image.reshape((32, 32, 3))\r\n",
        "      image = cv.resize(image, (64, 64))\r\n",
        "      X_test.append(image)\r\n",
        "      Y_test.append(label)\r\n",
        "\r\n",
        "X_test = numpy.array(X_test)\r\n",
        "Y_test = numpy.array(Y_test)\r\n",
        "\r\n",
        "Y_test = to_categorical(Y_test)\r\n",
        "print(X_test.shape)\r\n",
        "print(Y_test.shape)"
      ],
      "execution_count": null,
      "outputs": [
        {
          "output_type": "stream",
          "text": [
            "(12629, 64, 64, 3)\n",
            "(12629, 43)\n"
          ],
          "name": "stdout"
        }
      ]
    },
    {
      "cell_type": "code",
      "metadata": {
        "colab": {
          "base_uri": "https://localhost:8080/"
        },
        "id": "CQuIQEGrCVNn",
        "outputId": "f4cb8377-9506-492a-8a32-54059730422f"
      },
      "source": [
        "def tsr_model(input_shape=(64, 64, 3)):\r\n",
        "  model = Sequential()\r\n",
        "  model.add(Input(input_shape))\r\n",
        "  model.add(Conv2D(64, (3, 3), strides=(1, 1), padding='same', kernel_initializer=glorot_uniform(seed=0), activation='relu', kernel_regularizer=l2(0.001), name='conv1'))\r\n",
        "  model.add(Conv2D(64, (3, 3), strides=(1, 1), padding='same', kernel_initializer=glorot_uniform(seed=0), activation='relu', kernel_regularizer=l2(0.001), name='conv2'))\r\n",
        "  model.add(MaxPool2D((2, 2), strides=(2, 2)))\r\n",
        "  model.add(Conv2D(128, (3, 3), strides=(1, 1), padding='same', kernel_initializer=glorot_uniform(seed=0), activation='relu', kernel_regularizer=l2(0.001), name='conv3'))\r\n",
        "  model.add(Conv2D(128, (3, 3), strides=(1, 1), padding='same', kernel_initializer=glorot_uniform(seed=0), activation='relu', kernel_regularizer=l2(0.001), name='conv4'))\r\n",
        "  model.add(MaxPool2D((2, 2), strides=(2, 2)))\r\n",
        "  model.add(Conv2D(256, (3, 3), strides=(1, 1), padding='same', kernel_initializer=glorot_uniform(seed=0), activation='relu', kernel_regularizer=l2(0.001), name='conv5'))\r\n",
        "  model.add(Conv2D(256, (3, 3), strides=(1, 1), padding='same', kernel_initializer=glorot_uniform(seed=0), activation='relu', kernel_regularizer=l2(0.001), name='conv6'))\r\n",
        "  model.add(Conv2D(256, (3, 3), strides=(1, 1), padding='same', kernel_initializer=glorot_uniform(seed=0), activation='relu', kernel_regularizer=l2(0.001), name='conv7'))\r\n",
        "  model.add(MaxPool2D((2, 2), strides=(2, 2)))\r\n",
        "  model.add(Conv2D(512, (3, 3), strides=(1, 1), padding='same', kernel_initializer=glorot_uniform(seed=0), activation='relu', kernel_regularizer=l2(0.001), name='conv8'))\r\n",
        "  model.add(Conv2D(512, (3, 3), strides=(1, 1), padding='same', kernel_initializer=glorot_uniform(seed=0), activation='relu', kernel_regularizer=l2(0.001), name='conv9'))\r\n",
        "  model.add(Conv2D(512, (3, 3), strides=(1, 1), padding='same', kernel_initializer=glorot_uniform(seed=0), activation='relu', kernel_regularizer=l2(0.001), name='conv10'))\r\n",
        "  model.add(MaxPool2D((2, 2), strides=(2, 2)))\r\n",
        "  model.add(Conv2D(512, (3, 3), strides=(1, 1), padding='same', kernel_initializer=glorot_uniform(seed=0), activation='relu', kernel_regularizer=l2(0.001), name='conv11'))\r\n",
        "  model.add(Conv2D(512, (3, 3), strides=(1, 1), padding='same', kernel_initializer=glorot_uniform(seed=0), activation='relu', kernel_regularizer=l2(0.001), name='conv12'))\r\n",
        "  model.add(Conv2D(512, (3, 3), strides=(1, 1), padding='same', kernel_initializer=glorot_uniform(seed=0), activation='relu', kernel_regularizer=l2(0.001), name='conv13'))\r\n",
        "  model.add(MaxPool2D((2, 2), strides=(2, 2)))\r\n",
        "  model.add(Flatten())\r\n",
        "  model.add(Dense(128, activation='relu', kernel_initializer=glorot_uniform(seed=0), kernel_regularizer=l2(0.001), name='fc1'))\r\n",
        "  model.add(Dense(43, activation='softmax', kernel_initializer=glorot_uniform(seed=0), kernel_regularizer=l2(0.001), name='fc2'))\r\n",
        "\r\n",
        "  model.compile(optimizer='adam', loss='categorical_crossentropy', metrics=['accuracy'])\r\n",
        "  return model\r\n",
        "\r\n",
        "model = tsr_model(input_shape=(64, 64, 3))\r\n",
        "model.summary()"
      ],
      "execution_count": null,
      "outputs": [
        {
          "output_type": "stream",
          "text": [
            "Model: \"sequential_3\"\n",
            "_________________________________________________________________\n",
            "Layer (type)                 Output Shape              Param #   \n",
            "=================================================================\n",
            "conv1 (Conv2D)               (None, 64, 64, 64)        1792      \n",
            "_________________________________________________________________\n",
            "conv2 (Conv2D)               (None, 64, 64, 64)        36928     \n",
            "_________________________________________________________________\n",
            "max_pooling2d_15 (MaxPooling (None, 32, 32, 64)        0         \n",
            "_________________________________________________________________\n",
            "conv3 (Conv2D)               (None, 32, 32, 128)       73856     \n",
            "_________________________________________________________________\n",
            "conv4 (Conv2D)               (None, 32, 32, 128)       147584    \n",
            "_________________________________________________________________\n",
            "max_pooling2d_16 (MaxPooling (None, 16, 16, 128)       0         \n",
            "_________________________________________________________________\n",
            "conv5 (Conv2D)               (None, 16, 16, 256)       295168    \n",
            "_________________________________________________________________\n",
            "conv6 (Conv2D)               (None, 16, 16, 256)       590080    \n",
            "_________________________________________________________________\n",
            "conv7 (Conv2D)               (None, 16, 16, 256)       590080    \n",
            "_________________________________________________________________\n",
            "max_pooling2d_17 (MaxPooling (None, 8, 8, 256)         0         \n",
            "_________________________________________________________________\n",
            "conv8 (Conv2D)               (None, 8, 8, 512)         1180160   \n",
            "_________________________________________________________________\n",
            "conv9 (Conv2D)               (None, 8, 8, 512)         2359808   \n",
            "_________________________________________________________________\n",
            "conv10 (Conv2D)              (None, 8, 8, 512)         2359808   \n",
            "_________________________________________________________________\n",
            "max_pooling2d_18 (MaxPooling (None, 4, 4, 512)         0         \n",
            "_________________________________________________________________\n",
            "conv11 (Conv2D)              (None, 4, 4, 512)         2359808   \n",
            "_________________________________________________________________\n",
            "conv12 (Conv2D)              (None, 4, 4, 512)         2359808   \n",
            "_________________________________________________________________\n",
            "conv13 (Conv2D)              (None, 4, 4, 512)         2359808   \n",
            "_________________________________________________________________\n",
            "max_pooling2d_19 (MaxPooling (None, 2, 2, 512)         0         \n",
            "_________________________________________________________________\n",
            "flatten_3 (Flatten)          (None, 2048)              0         \n",
            "_________________________________________________________________\n",
            "fc1 (Dense)                  (None, 128)               262272    \n",
            "_________________________________________________________________\n",
            "fc2 (Dense)                  (None, 43)                5547      \n",
            "=================================================================\n",
            "Total params: 14,982,507\n",
            "Trainable params: 14,982,507\n",
            "Non-trainable params: 0\n",
            "_________________________________________________________________\n"
          ],
          "name": "stdout"
        }
      ]
    },
    {
      "cell_type": "code",
      "metadata": {
        "colab": {
          "base_uri": "https://localhost:8080/"
        },
        "id": "vz-yNCvdEwGy",
        "outputId": "bb7d3899-48aa-4947-d7cb-ebca3577fc89"
      },
      "source": [
        "aug = ImageDataGenerator(rotation_range=10, zoom_range=0.05, \r\n",
        "                         width_shift_range=0.1, height_shift_range=0.1, \r\n",
        "                         shear_range=0.15, horizontal_flip=False, \r\n",
        "                         fill_mode='nearest')\r\n",
        "model.fit(X_train, Y_train, epochs=15, batch_size=128, validation_data=(X_test, Y_test))"
      ],
      "execution_count": null,
      "outputs": [
        {
          "output_type": "stream",
          "text": [
            "Epoch 1/15\n",
            "307/307 [==============================] - 89s 286ms/step - loss: 6.7061 - accuracy: 0.0635 - val_loss: 4.2795 - val_accuracy: 0.0960\n",
            "Epoch 2/15\n",
            "307/307 [==============================] - 88s 287ms/step - loss: 4.1647 - accuracy: 0.1048 - val_loss: 3.2769 - val_accuracy: 0.2673\n",
            "Epoch 3/15\n",
            "307/307 [==============================] - 88s 288ms/step - loss: 2.6006 - accuracy: 0.4354 - val_loss: 1.6167 - val_accuracy: 0.7517\n",
            "Epoch 4/15\n",
            "307/307 [==============================] - 88s 288ms/step - loss: 1.1977 - accuracy: 0.8656 - val_loss: 1.1552 - val_accuracy: 0.8876\n",
            "Epoch 5/15\n",
            "307/307 [==============================] - 88s 288ms/step - loss: 0.8229 - accuracy: 0.9524 - val_loss: 0.9560 - val_accuracy: 0.9038\n",
            "Epoch 6/15\n",
            "307/307 [==============================] - 88s 287ms/step - loss: 0.6492 - accuracy: 0.9733 - val_loss: 0.9268 - val_accuracy: 0.9078\n",
            "Epoch 7/15\n",
            "307/307 [==============================] - 88s 287ms/step - loss: 0.6346 - accuracy: 0.9643 - val_loss: 0.7894 - val_accuracy: 0.9267\n",
            "Epoch 8/15\n",
            "307/307 [==============================] - 88s 287ms/step - loss: 0.4856 - accuracy: 0.9852 - val_loss: 0.6845 - val_accuracy: 0.9405\n",
            "Epoch 9/15\n",
            "307/307 [==============================] - 88s 287ms/step - loss: 0.4067 - accuracy: 0.9866 - val_loss: 0.7414 - val_accuracy: 0.9146\n",
            "Epoch 10/15\n",
            "307/307 [==============================] - 88s 287ms/step - loss: 0.3662 - accuracy: 0.9864 - val_loss: 0.6005 - val_accuracy: 0.9363\n",
            "Epoch 11/15\n",
            "307/307 [==============================] - 88s 287ms/step - loss: 0.3697 - accuracy: 0.9825 - val_loss: 0.5556 - val_accuracy: 0.9426\n",
            "Epoch 12/15\n",
            "307/307 [==============================] - 88s 286ms/step - loss: 0.3460 - accuracy: 0.9843 - val_loss: 0.5867 - val_accuracy: 0.9306\n",
            "Epoch 13/15\n",
            "307/307 [==============================] - 88s 286ms/step - loss: 0.2893 - accuracy: 0.9906 - val_loss: 0.5759 - val_accuracy: 0.9288\n",
            "Epoch 14/15\n",
            "307/307 [==============================] - 88s 286ms/step - loss: 0.2885 - accuracy: 0.9874 - val_loss: 0.4803 - val_accuracy: 0.9394\n",
            "Epoch 15/15\n",
            "307/307 [==============================] - 88s 286ms/step - loss: 0.2619 - accuracy: 0.9892 - val_loss: 0.4615 - val_accuracy: 0.9553\n"
          ],
          "name": "stdout"
        },
        {
          "output_type": "execute_result",
          "data": {
            "text/plain": [
              "<tensorflow.python.keras.callbacks.History at 0x7ff8e7cf50d0>"
            ]
          },
          "metadata": {
            "tags": []
          },
          "execution_count": 20
        }
      ]
    },
    {
      "cell_type": "code",
      "metadata": {
        "colab": {
          "base_uri": "https://localhost:8080/",
          "height": 573
        },
        "id": "mqBRHQD-eh8K",
        "outputId": "ebd7c476-6cac-4ca2-82c5-7dd4c9a5894e"
      },
      "source": [
        "from matplotlib import pyplot as plt\r\n",
        "plt.plot(model.history.history['accuracy'])\r\n",
        "plt.title('Model Accuracy')\r\n",
        "plt.xlabel('Epochs')\r\n",
        "plt.ylabel('Accuracy')\r\n",
        "plt.show()\r\n",
        "\r\n",
        "plt.plot(model.history.history['loss'])\r\n",
        "plt.title('Model Loss')\r\n",
        "plt.xlabel('Epochs')\r\n",
        "plt.ylabel('Loss')\r\n",
        "plt.show()"
      ],
      "execution_count": null,
      "outputs": [
        {
          "output_type": "display_data",
          "data": {
            "image/png": "[encoded data removed]",
            "text/plain": [
              "<Figure size 432x288 with 1 Axes>"
            ]
          },
          "metadata": {
            "tags": [],
            "needs_background": "light"
          }
        },
        {
          "output_type": "display_data",
          "data": {
            "image/png": "[encoded data removed]",
            "text/plain": [
              "<Figure size 432x288 with 1 Axes>"
            ]
          },
          "metadata": {
            "tags": [],
            "needs_background": "light"
          }
        }
      ]
    },
    {
      "cell_type": "code",
      "metadata": {
        "id": "g7p1zMcisI7f"
      },
      "source": [
        "model.save('/content/drive/MyDrive/tsr_model_v4.h5')"
      ],
      "execution_count": null,
      "outputs": []
    },
    {
      "cell_type": "code",
      "metadata": {
        "id": "15RSzjNeo5y0"
      },
      "source": [
        "from keras.models import load_model\r\n",
        "import cv2 as cv\r\n",
        "import numpy\r\n",
        "import csv\r\n",
        "from keras.utils import to_categorical\r\n",
        "model = load_model('/content/drive/MyDrive/tsr_model_v4.h5')"
      ],
      "execution_count": null,
      "outputs": []
    },
    {
      "cell_type": "code",
      "metadata": {
        "colab": {
          "base_uri": "https://localhost:8080/"
        },
        "id": "VEY1JlrzqYFP",
        "outputId": "754c0f77-d43a-4a1c-97cf-262bbdba7f64"
      },
      "source": [
        "prediction = model.evaluate(X_test, Y_test)\r\n",
        "print('loss : {}'.format(prediction[0]))\r\n",
        "print('accuracy: {}'.format(prediction[1]))"
      ],
      "execution_count": null,
      "outputs": [
        {
          "output_type": "stream",
          "text": [
            "395/395 [==============================] - 12s 31ms/step - loss: 0.4615 - accuracy: 0.9553\n",
            "loss : 0.46151697635650635\n",
            "accuracy: 0.9552617073059082\n"
          ],
          "name": "stdout"
        }
      ]
    },
    {
      "cell_type": "code",
      "metadata": {
        "colab": {
          "base_uri": "https://localhost:8080/"
        },
        "id": "WG2QE1Gg8Ntm",
        "outputId": "cbc97249-0497-4eff-db22-2ce36c8ebaef"
      },
      "source": [
        "from sklearn.metrics import classification_report\r\n",
        "import numpy\r\n",
        "\r\n",
        "y_pred = model.predict(X_test)\r\n",
        "y_pred = numpy.argmax(y_pred, axis=1)\r\n",
        "Y_test = numpy.argmax(Y_test, axis=1)\r\n",
        "print(classification_report(Y_test, y_pred))"
      ],
      "execution_count": null,
      "outputs": [
        {
          "output_type": "stream",
          "text": [
            "              precision    recall  f1-score   support\n",
            "\n",
            "           0       0.86      1.00      0.92        59\n",
            "           1       0.98      0.98      0.98       720\n",
            "           2       0.98      0.99      0.99       750\n",
            "           3       0.98      0.94      0.96       450\n",
            "           4       0.95      0.98      0.97       660\n",
            "           5       0.94      0.97      0.95       630\n",
            "           6       1.00      0.85      0.92       150\n",
            "           7       1.00      0.98      0.99       450\n",
            "           8       0.96      0.95      0.95       450\n",
            "           9       0.99      0.98      0.98       480\n",
            "          10       0.97      0.97      0.97       660\n",
            "          11       0.97      0.99      0.98       420\n",
            "          12       0.97      0.98      0.97       690\n",
            "          13       0.98      0.99      0.98       720\n",
            "          14       0.96      1.00      0.98       270\n",
            "          15       1.00      0.94      0.97       210\n",
            "          16       0.98      0.99      0.99       150\n",
            "          17       0.99      0.96      0.97       360\n",
            "          18       0.96      0.93      0.94       390\n",
            "          19       0.77      0.85      0.81        60\n",
            "          20       0.86      1.00      0.92        90\n",
            "          21       0.91      0.92      0.92        90\n",
            "          22       1.00      0.87      0.93       120\n",
            "          23       0.74      0.95      0.83       150\n",
            "          24       0.93      0.96      0.95        90\n",
            "          25       0.96      0.97      0.96       480\n",
            "          26       0.96      0.93      0.95       180\n",
            "          27       0.81      0.42      0.55        60\n",
            "          28       0.81      0.99      0.89       150\n",
            "          29       0.81      0.97      0.88        90\n",
            "          30       0.96      0.71      0.82       150\n",
            "          31       0.94      0.98      0.96       270\n",
            "          32       1.00      0.97      0.98        60\n",
            "          33       0.90      0.99      0.94       210\n",
            "          34       0.93      0.99      0.96       120\n",
            "          35       1.00      0.95      0.98       390\n",
            "          36       0.99      0.78      0.87       120\n",
            "          37       0.92      0.80      0.86        60\n",
            "          38       0.92      0.96      0.94       690\n",
            "          39       0.87      0.93      0.90        90\n",
            "          40       0.94      0.49      0.64        90\n",
            "          41       1.00      1.00      1.00        60\n",
            "          42       1.00      0.79      0.88        90\n",
            "\n",
            "    accuracy                           0.96     12629\n",
            "   macro avg       0.94      0.92      0.92     12629\n",
            "weighted avg       0.96      0.96      0.95     12629\n",
            "\n"
          ],
          "name": "stdout"
        }
      ]
    },
    {
      "cell_type": "code",
      "metadata": {
        "id": "8zlVBB5Y9MpF"
      },
      "source": [
        ""
      ],
      "execution_count": null,
      "outputs": []
    }
  ]
}