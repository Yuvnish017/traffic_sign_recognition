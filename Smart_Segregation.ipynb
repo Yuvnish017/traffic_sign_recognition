{
  "nbformat": 4,
  "nbformat_minor": 0,
  "metadata": {
    "colab": {
      "name": "Smart Segregation.ipynb",
      "provenance": [],
      "collapsed_sections": []
    },
    "kernelspec": {
      "name": "python3",
      "display_name": "Python 3"
    },
    "language_info": {
      "name": "python"
    }
  },
  "cells": [
    {
      "cell_type": "code",
      "metadata": {
        "id": "0YU3sUtUfd03"
      },
      "source": [
        "import gdown\n",
        "import csv\n",
        "import random\n",
        "import math\n",
        "import numpy as np\n",
        "from scipy.spatial.distance import cdist\n",
        "from keras.models import load_model\n",
        "from keras.models import Model\n",
        "from keras.utils import to_categorical\n",
        "import cv2 as cv\n",
        "import matplotlib.pyplot as plt\n",
        "import seaborn as sns\n",
        "from sklearn.model_selection import train_test_split"
      ],
      "execution_count": 1,
      "outputs": []
    },
    {
      "cell_type": "code",
      "metadata": {
        "colab": {
          "base_uri": "https://localhost:8080/"
        },
        "id": "VEdpd3x_fZWd",
        "outputId": "75475abe-b6c2-4cba-989b-1f1c4e1f3b60"
      },
      "source": [
        "!gdown --id 1-0OQTzDJmEu4ndbXari5K4X5rVPleCyA"
      ],
      "execution_count": 2,
      "outputs": [
        {
          "output_type": "stream",
          "text": [
            "Downloading...\n",
            "From: https://drive.google.com/uc?id=1-0OQTzDJmEu4ndbXari5K4X5rVPleCyA\n",
            "To: /content/images_color.csv\n",
            "517MB [00:02, 172MB/s]\n"
          ],
          "name": "stdout"
        }
      ]
    },
    {
      "cell_type": "code",
      "metadata": {
        "colab": {
          "base_uri": "https://localhost:8080/"
        },
        "id": "xYmT4b9UbC8V",
        "outputId": "337d244c-6494-446d-9f34-2c67e06c7733"
      },
      "source": [
        "!gdown --id 1j3cl35Ags6RTkClJ2KZkN7HMCndv4PIA"
      ],
      "execution_count": 3,
      "outputs": [
        {
          "output_type": "stream",
          "text": [
            "Downloading...\n",
            "From: https://drive.google.com/uc?id=1j3cl35Ags6RTkClJ2KZkN7HMCndv4PIA\n",
            "To: /content/yuvnish_tsr_model_v5.h5\n",
            "168MB [00:00, 192MB/s]\n"
          ],
          "name": "stdout"
        }
      ]
    },
    {
      "cell_type": "code",
      "metadata": {
        "id": "VFxHMyCJfYPk"
      },
      "source": [
        "ydata = []\n",
        "xdata = []\n",
        "\n",
        "with open('/content/images_color.csv', 'r') as f:\n",
        "  reader = csv.reader(f)\n",
        "  for row in reader:\n",
        "    if row[0]!='':\n",
        "      label = row[0]\n",
        "      image = np.array([float(a)/255.0 for a in row[1:]])\n",
        "      image = image.reshape((32, 32, 3))\n",
        "      image = cv.resize(image,(64, 64))\n",
        "      xdata.append(image)\n",
        "      ydata.append(label)\n",
        "\n",
        "img_data = np.array(xdata)\n",
        "label_data = np.array(ydata).astype(\"int\")\n",
        "# print(img_data.shape,label_data.shape)"
      ],
      "execution_count": 4,
      "outputs": []
    },
    {
      "cell_type": "code",
      "metadata": {
        "id": "f7eaMME-oLui"
      },
      "source": [
        "del xdata, ydata"
      ],
      "execution_count": 5,
      "outputs": []
    },
    {
      "cell_type": "code",
      "metadata": {
        "colab": {
          "base_uri": "https://localhost:8080/",
          "height": 663
        },
        "id": "MxS0qGmxaLQf",
        "outputId": "872753b4-4206-4f92-ff7e-63931fb032b5"
      },
      "source": [
        "def plot(y):\n",
        "  category_names = [n for n in range(len(np.unique(y)))]\n",
        "  label_num = []\n",
        "  for i in category_names:\n",
        "    num = sum(y == i)\n",
        "    label_num.append(num)\n",
        "  plt.figure(figsize=(20,10))\n",
        "  sns.barplot(category_names, label_num).set_title(\"Number of training images per category:\")\n",
        "  plt.show()\n",
        "\n",
        "plot(label_data)"
      ],
      "execution_count": 6,
      "outputs": [
        {
          "output_type": "stream",
          "text": [
            "/usr/local/lib/python3.7/dist-packages/seaborn/_decorators.py:43: FutureWarning: Pass the following variables as keyword args: x, y. From version 0.12, the only valid positional argument will be `data`, and passing other arguments without an explicit keyword will result in an error or misinterpretation.\n",
            "  FutureWarning\n"
          ],
          "name": "stderr"
        },
        {
          "output_type": "display_data",
          "data": {
            "image/png": "[encoded data removed]",
            "text/plain": [
              "<Figure size 1440x720 with 1 Axes>"
            ]
          },
          "metadata": {
            "tags": [],
            "needs_background": "light"
          }
        }
      ]
    },
    {
      "cell_type": "code",
      "metadata": {
        "id": "APSmWVQ9j7xH"
      },
      "source": [
        "def difficult_sam(x, y, test_size, ypred):\n",
        "  num = y.shape[0]\n",
        "  num_test = int(num*test_size)\n",
        "  num_train = num-num_test\n",
        "  mask1 = y == ypred\n",
        "  mask2 = y != ypred\n",
        "  del ypred\n",
        "  x1, y1 = x[mask1], y[mask1]\n",
        "  x2, y2 = x[mask2], y[mask2]\n",
        "  del mask1, mask2, x, y\n",
        "  num_train = num_train-y2.shape[0]\n",
        "  test_size = num_test/(num_test+num_train)\n",
        "  xtrain, xtest, ytrain, ytest = train_test_split(x1, y1, test_size=test_size)\n",
        "  del x1, y1\n",
        "  xtrain, ytrain = np.concatenate((xtrain, x2), axis=0), np.concatenate((ytrain, y2), axis=0)\n",
        "  del x2, y2\n",
        "  return xtrain, xtest, ytrain, ytest"
      ],
      "execution_count": 7,
      "outputs": []
    },
    {
      "cell_type": "code",
      "metadata": {
        "id": "0mIz2Dv-3qPt"
      },
      "source": [
        "def euc_mat(x):\n",
        "\n",
        "  model = load_model(\"/content/yuvnish_tsr_model_v5.h5\")\n",
        "  layer_name = 'fc3'\n",
        "  intermediate_layer = Model(inputs=model.input, outputs=model.get_layer(layer_name).output)\n",
        "  xvectors= intermediate_layer.predict(x)\n",
        "\n",
        "  mat = cdist(xvectors, xvectors, metric='euclidean')\n",
        "\n",
        "  del model\n",
        "  del xvectors\n",
        "  return mat\n",
        "\n",
        "def kennard_stone(x, y, test_size):\n",
        "  num = y.shape[0]\n",
        "\n",
        "  x_train = []\n",
        "  y_train = []\n",
        "  x_test = []\n",
        "  y_test = []\n",
        "\n",
        "  for i in range(len(np.unique(y))):\n",
        "    mask = y == i\n",
        "    class_num = sum(mask)\n",
        "    cnum_test = int(class_num*test_size)\n",
        "    cx = x[mask]\n",
        "    cy = y[mask]\n",
        "    eucl_mat = euc_mat(cx)\n",
        "\n",
        "    select_p = []\n",
        "    remain_p = [n for n in range(class_num)]\n",
        "    first_2pts = np.unravel_index(np.argmax(eucl_mat), eucl_mat.shape)\n",
        "    select_p.append(first_2pts[0])\n",
        "    select_p.append(first_2pts[1])\n",
        "    remain_p.remove(first_2pts[0])\n",
        "    remain_p.remove(first_2pts[1])\n",
        "    \n",
        "    for _ in range(cnum_test-2):\n",
        "      select_distance = eucl_mat[select_p, :]\n",
        "      min_distance = select_distance[:, remain_p]\n",
        "      min_distance = np.min(min_distance, axis=0)\n",
        "      max_min_distance = np.max(min_distance)\n",
        "      points = np.argwhere(select_distance == max_min_distance)[:, 1].tolist()\n",
        "      for point in points:\n",
        "        if point in select_p:\n",
        "          pass\n",
        "        else:\n",
        "          select_p.append(point)\n",
        "          remain_p.remove(point)\n",
        "          break\n",
        "      \n",
        "    del eucl_mat, select_distance\n",
        "    \n",
        "    xtrain, ytrain = cx[remain_p], cy[remain_p]\n",
        "    xtest, ytest = cx[select_p], cy[select_p]\n",
        "\n",
        "    del cx, cy\n",
        "\n",
        "    x_train.append(xtrain)\n",
        "    y_train.append(ytrain)\n",
        "    x_test.append(xtest)\n",
        "    y_test.append(ytest)\n",
        "\n",
        "  del x, y\n",
        "  \n",
        "  xtrain = np.concatenate(x_train, axis=0)\n",
        "  ytrain = np.concatenate(y_train, axis=0)\n",
        "  xtest = np.concatenate(x_test, axis=0)\n",
        "  ytest = np.concatenate(y_test, axis=0)\n",
        "\n",
        "  del x_train, y_train, x_test, y_test\n",
        "\n",
        "  return xtrain, xtest, ytrain, ytest"
      ],
      "execution_count": 8,
      "outputs": []
    },
    {
      "cell_type": "code",
      "metadata": {
        "id": "dzEtRLOIcbZF"
      },
      "source": [
        "seg_dict = {\"Normal\" : train_test_split,\n",
        "            \"Stratified\" : train_test_split,\n",
        "            \"Difficult_samples\" : difficult_sam,\n",
        "            \"kennard_stone\" : kennard_stone}"
      ],
      "execution_count": 9,
      "outputs": []
    },
    {
      "cell_type": "code",
      "metadata": {
        "id": "k4CuiGeWe8k1"
      },
      "source": [
        "def split(name, X_data, Y_data, test_size=0.2, Y_pred = None):\n",
        "  if name == \"Normal\":\n",
        "    xtrain, xtest, ytrain, ytest = seg_dict[\"Normal\"](X_data, Y_data, test_size=test_size)\n",
        "    return xtrain, xtest, ytrain, ytest\n",
        "  elif name == \"Stratified\":\n",
        "    xtrain, xtest, ytrain, ytest = seg_dict[\"Stratified\"](X_data, Y_data, test_size=test_size, stratify=Y_data)\n",
        "    return xtrain, xtest, ytrain, ytest\n",
        "  elif name == \"Difficult_samples\":\n",
        "    xtrain, xtest, ytrain, ytest = seg_dict[\"Difficult_samples\"](X_data, Y_data, test_size=test_size, ypred=Y_pred)\n",
        "    return xtrain, xtest, ytrain, ytest\n",
        "  elif name == \"kennard_stone\":\n",
        "    xtrain, xtest, ytrain, ytest = seg_dict[\"kennard_stone\"](X_data, Y_data, test_size=test_size)\n",
        "    return xtrain, xtest, ytrain, ytest"
      ],
      "execution_count": 10,
      "outputs": []
    },
    {
      "cell_type": "code",
      "metadata": {
        "colab": {
          "base_uri": "https://localhost:8080/"
        },
        "id": "FENM065Xr0Gz",
        "outputId": "a3ab72bb-7482-4c6c-c3a0-70dd9bc9cfc9"
      },
      "source": [
        "# creating predictions with error\n",
        "ypred = label_data.copy()\n",
        "i = 0\n",
        "while(i<100):\n",
        "  if ypred[i] < 40:\n",
        "    ypred[i] = ypred[i] + 1\n",
        "  i=i+1\n",
        "\n",
        "sum(label_data != ypred)"
      ],
      "execution_count": 11,
      "outputs": [
        {
          "output_type": "execute_result",
          "data": {
            "text/plain": [
              "100"
            ]
          },
          "metadata": {
            "tags": []
          },
          "execution_count": 11
        }
      ]
    },
    {
      "cell_type": "code",
      "metadata": {
        "id": "LxWTE3qVMcUN"
      },
      "source": [
        "xtrain, xtest, ytrain, ytest = split(\"Difficult_samples\", img_data, label_data, Y_pred=ypred)"
      ],
      "execution_count": 12,
      "outputs": []
    },
    {
      "cell_type": "code",
      "metadata": {
        "colab": {
          "base_uri": "https://localhost:8080/"
        },
        "id": "XsJ_UikjeTew",
        "outputId": "776fdd52-d031-40dc-be18-d82e93fe391e"
      },
      "source": [
        "ytest.shape[0]/(ytrain.shape[0]+ytest.shape[0])"
      ],
      "execution_count": 13,
      "outputs": [
        {
          "output_type": "execute_result",
          "data": {
            "text/plain": [
              "0.19997959652120686"
            ]
          },
          "metadata": {
            "tags": []
          },
          "execution_count": 13
        }
      ]
    },
    {
      "cell_type": "code",
      "metadata": {
        "colab": {
          "base_uri": "https://localhost:8080/",
          "height": 1000
        },
        "id": "8sKJbqWmelHa",
        "outputId": "b346fed8-451b-46d1-f517-cf9d43da3ed0"
      },
      "source": [
        "plot(ytrain)\n",
        "plot(ytest)"
      ],
      "execution_count": 14,
      "outputs": [
        {
          "output_type": "stream",
          "text": [
            "/usr/local/lib/python3.7/dist-packages/seaborn/_decorators.py:43: FutureWarning: Pass the following variables as keyword args: x, y. From version 0.12, the only valid positional argument will be `data`, and passing other arguments without an explicit keyword will result in an error or misinterpretation.\n",
            "  FutureWarning\n"
          ],
          "name": "stderr"
        },
        {
          "output_type": "display_data",
          "data": {
            "image/png": "[encoded data removed]",
            "text/plain": [
              "<Figure size 1440x720 with 1 Axes>"
            ]
          },
          "metadata": {
            "tags": [],
            "needs_background": "light"
          }
        },
        {
          "output_type": "stream",
          "text": [
            "/usr/local/lib/python3.7/dist-packages/seaborn/_decorators.py:43: FutureWarning: Pass the following variables as keyword args: x, y. From version 0.12, the only valid positional argument will be `data`, and passing other arguments without an explicit keyword will result in an error or misinterpretation.\n",
            "  FutureWarning\n"
          ],
          "name": "stderr"
        },
        {
          "output_type": "display_data",
          "data": {
            "image/png": "[encoded data removed]",
            "text/plain": [
              "<Figure size 1440x720 with 1 Axes>"
            ]
          },
          "metadata": {
            "tags": [],
            "needs_background": "light"
          }
        }
      ]
    },
    {
      "cell_type": "code",
      "metadata": {
        "id": "nK36mws3DSoF"
      },
      "source": [
        "del xtrain, xtest, ytrain, ytest"
      ],
      "execution_count": 15,
      "outputs": []
    },
    {
      "cell_type": "code",
      "metadata": {
        "id": "uC9Uy2M6HXGu"
      },
      "source": [
        "xtrain, xtest, ytrain, ytest = split(\"kennard_stone\", img_data, label_data)"
      ],
      "execution_count": 16,
      "outputs": []
    },
    {
      "cell_type": "code",
      "metadata": {
        "colab": {
          "base_uri": "https://localhost:8080/"
        },
        "id": "pSRHpbyAHiCa",
        "outputId": "aeb80287-e457-4e2e-a279-f7963a15d89e"
      },
      "source": [
        "ytest.shape[0]/(ytrain.shape[0]+ytest.shape[0])"
      ],
      "execution_count": 17,
      "outputs": [
        {
          "output_type": "execute_result",
          "data": {
            "text/plain": [
              "0.19997959652120686"
            ]
          },
          "metadata": {
            "tags": []
          },
          "execution_count": 17
        }
      ]
    },
    {
      "cell_type": "code",
      "metadata": {
        "colab": {
          "base_uri": "https://localhost:8080/",
          "height": 1000
        },
        "id": "zbTcCzApHnIj",
        "outputId": "b00c8080-44ad-42c3-ac1c-f26a49c6be8a"
      },
      "source": [
        "plot(ytrain)\n",
        "plot(ytest)"
      ],
      "execution_count": 18,
      "outputs": [
        {
          "output_type": "stream",
          "text": [
            "/usr/local/lib/python3.7/dist-packages/seaborn/_decorators.py:43: FutureWarning: Pass the following variables as keyword args: x, y. From version 0.12, the only valid positional argument will be `data`, and passing other arguments without an explicit keyword will result in an error or misinterpretation.\n",
            "  FutureWarning\n"
          ],
          "name": "stderr"
        },
        {
          "output_type": "display_data",
          "data": {
            "image/png": "[encoded data removed]",
            "text/plain": [
              "<Figure size 1440x720 with 1 Axes>"
            ]
          },
          "metadata": {
            "tags": [],
            "needs_background": "light"
          }
        },
        {
          "output_type": "stream",
          "text": [
            "/usr/local/lib/python3.7/dist-packages/seaborn/_decorators.py:43: FutureWarning: Pass the following variables as keyword args: x, y. From version 0.12, the only valid positional argument will be `data`, and passing other arguments without an explicit keyword will result in an error or misinterpretation.\n",
            "  FutureWarning\n"
          ],
          "name": "stderr"
        },
        {
          "output_type": "display_data",
          "data": {
            "image/png": "[encoded data removed]",
            "text/plain": [
              "<Figure size 1440x720 with 1 Axes>"
            ]
          },
          "metadata": {
            "tags": [],
            "needs_background": "light"
          }
        }
      ]
    },
    {
      "cell_type": "code",
      "metadata": {
        "id": "JkrqxxjhHs6r"
      },
      "source": [
        ""
      ],
      "execution_count": null,
      "outputs": []
    }
  ]
}