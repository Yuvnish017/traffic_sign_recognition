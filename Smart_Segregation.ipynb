{
  "nbformat": 4,
  "nbformat_minor": 0,
  "metadata": {
    "colab": {
      "name": "Smart Segregation.ipynb",
      "provenance": [],
      "collapsed_sections": []
    },
    "kernelspec": {
      "name": "python3",
      "display_name": "Python 3"
    },
    "language_info": {
      "name": "python"
    }
  },
  "cells": [
    {
      "cell_type": "code",
      "metadata": {
        "id": "0YU3sUtUfd03"
      },
      "source": [
        "import gdown\n",
        "import csv\n",
        "import random\n",
        "import math\n",
        "import numpy as np\n",
        "from scipy.spatial.distance import cdist\n",
        "from keras.models import load_model\n",
        "from keras.models import Model\n",
        "from keras.utils import to_categorical\n",
        "import cv2 as cv\n",
        "import matplotlib.pyplot as plt\n",
        "import seaborn as sns\n",
        "from sklearn.model_selection import train_test_split"
      ],
      "execution_count": 1,
      "outputs": []
    },
    {
      "cell_type": "code",
      "metadata": {
        "colab": {
          "base_uri": "https://localhost:8080/"
        },
        "id": "VEdpd3x_fZWd",
        "outputId": "6c6468a7-cdd8-42bd-bd3d-e07afcab4db2"
      },
      "source": [
        "!gdown --id 1-0OQTzDJmEu4ndbXari5K4X5rVPleCyA"
      ],
      "execution_count": 2,
      "outputs": [
        {
          "output_type": "stream",
          "text": [
            "Downloading...\n",
            "From: https://drive.google.com/uc?id=1-0OQTzDJmEu4ndbXari5K4X5rVPleCyA\n",
            "To: /content/images_color.csv\n",
            "517MB [00:03, 160MB/s]\n"
          ],
          "name": "stdout"
        }
      ]
    },
    {
      "cell_type": "code",
      "metadata": {
        "colab": {
          "base_uri": "https://localhost:8080/"
        },
        "id": "xYmT4b9UbC8V",
        "outputId": "998eea20-983f-459b-8d46-e4f3f0f59618"
      },
      "source": [
        "!gdown --id 1j3cl35Ags6RTkClJ2KZkN7HMCndv4PIA"
      ],
      "execution_count": 3,
      "outputs": [
        {
          "output_type": "stream",
          "text": [
            "Downloading...\n",
            "From: https://drive.google.com/uc?id=1j3cl35Ags6RTkClJ2KZkN7HMCndv4PIA\n",
            "To: /content/yuvnish_tsr_model_v5.h5\n",
            "168MB [00:01, 157MB/s]\n"
          ],
          "name": "stdout"
        }
      ]
    },
    {
      "cell_type": "markdown",
      "metadata": {
        "id": "pHAnXft6Fqay"
      },
      "source": [
        "# Loading Data"
      ]
    },
    {
      "cell_type": "code",
      "metadata": {
        "id": "VFxHMyCJfYPk"
      },
      "source": [
        "ydata = []\n",
        "xdata = []\n",
        "\n",
        "with open('/content/images_color.csv', 'r') as f:\n",
        "  reader = csv.reader(f)\n",
        "  for row in reader:\n",
        "    if row[0]!='':\n",
        "      label = row[0]\n",
        "      image = np.array([int(a) for a in row[1:]], dtype='uint8')\n",
        "      image = image.reshape((32, 32, 3))\n",
        "      image = cv.resize(image,(64, 64))\n",
        "      xdata.append(image)\n",
        "      ydata.append(label)\n",
        "\n",
        "X_data = np.array(xdata)\n",
        "Y_data = np.array(ydata).astype(\"int\")\n",
        "# print(img_data.shape,label_data.shape)"
      ],
      "execution_count": 4,
      "outputs": []
    },
    {
      "cell_type": "code",
      "metadata": {
        "id": "f7eaMME-oLui"
      },
      "source": [
        "del xdata, ydata"
      ],
      "execution_count": 5,
      "outputs": []
    },
    {
      "cell_type": "markdown",
      "metadata": {
        "id": "6MhzGFaoFulZ"
      },
      "source": [
        "# Plot Classes distribution Function"
      ]
    },
    {
      "cell_type": "code",
      "metadata": {
        "colab": {
          "base_uri": "https://localhost:8080/",
          "height": 663
        },
        "id": "MxS0qGmxaLQf",
        "outputId": "54e9f7b6-3f76-480a-9760-037de58baa1b"
      },
      "source": [
        "def plot(y):\n",
        "  category_names = [n for n in range(len(np.unique(y)))]\n",
        "  label_num = []\n",
        "  for i in category_names:\n",
        "    num = sum(y == i)\n",
        "    label_num.append(num)\n",
        "  plt.figure(figsize=(20,10))\n",
        "  sns.barplot(category_names, label_num).set_title(\"Number of training images per category:\")\n",
        "  plt.show()\n",
        "\n",
        "plot(Y_data)"
      ],
      "execution_count": 6,
      "outputs": [
        {
          "output_type": "stream",
          "text": [
            "/usr/local/lib/python3.7/dist-packages/seaborn/_decorators.py:43: FutureWarning: Pass the following variables as keyword args: x, y. From version 0.12, the only valid positional argument will be `data`, and passing other arguments without an explicit keyword will result in an error or misinterpretation.\n",
            "  FutureWarning\n"
          ],
          "name": "stderr"
        },
        {
          "output_type": "display_data",
          "data": {
            "image/png": "[encoded data removed]",
            "text/plain": [
              "<Figure size 1440x720 with 1 Axes>"
            ]
          },
          "metadata": {
            "tags": [],
            "needs_background": "light"
          }
        }
      ]
    },
    {
      "cell_type": "markdown",
      "metadata": {
        "id": "sZdp7-bQF68S"
      },
      "source": [
        "# helper Functions"
      ]
    },
    {
      "cell_type": "code",
      "metadata": {
        "id": "APSmWVQ9j7xH"
      },
      "source": [
        "def difficult_sam(x, y, test_size, ypred):\n",
        "  num = y.shape[0]\n",
        "  num_test = int(num*test_size)\n",
        "  num_train = num-num_test\n",
        "  mask1 = y == ypred\n",
        "  mask2 = y != ypred\n",
        "  del ypred\n",
        "  x1, y1 = x[mask1], y[mask1]\n",
        "  x2, y2 = x[mask2], y[mask2]\n",
        "  del mask1, mask2, x, y\n",
        "  num_train = num_train-y2.shape[0]\n",
        "  test_size = num_test/(num_test+num_train)\n",
        "  xtrain, xtest, ytrain, ytest = train_test_split(x1, y1, test_size=test_size)\n",
        "  del x1, y1\n",
        "  xtrain, ytrain = np.concatenate((xtrain, x2), axis=0), np.concatenate((ytrain, y2), axis=0)\n",
        "  del x2, y2\n",
        "  return xtrain, xtest, ytrain, ytest"
      ],
      "execution_count": 7,
      "outputs": []
    },
    {
      "cell_type": "code",
      "metadata": {
        "id": "0mIz2Dv-3qPt"
      },
      "source": [
        "def euc_mat(x):\n",
        "  model = load_model(\"/content/yuvnish_tsr_model_v5.h5\")\n",
        "  layer_name = 'fc3'\n",
        "  intermediate_layer = Model(inputs=model.input, outputs=model.get_layer(layer_name).output)\n",
        "  xvectors= intermediate_layer.predict(x)\n",
        "\n",
        "  mat = cdist(xvectors, xvectors, metric='euclidean')\n",
        "\n",
        "  del model\n",
        "  del xvectors\n",
        "  return mat\n",
        "\n",
        "def kennard_stone(x, y, test_size):\n",
        "  num = y.shape[0]\n",
        "\n",
        "  x_train = []\n",
        "  y_train = []\n",
        "  x_test = []\n",
        "  y_test = []\n",
        "\n",
        "  for i in range(len(np.unique(y))):\n",
        "    mask = y == i\n",
        "    class_num = sum(mask)\n",
        "    cnum_test = int(class_num*test_size)\n",
        "    cx = x[mask]\n",
        "    cy = y[mask]\n",
        "    eucl_mat = euc_mat(cx)\n",
        "\n",
        "    select_p = []\n",
        "    remain_p = [n for n in range(class_num)]\n",
        "    first_2pts = np.unravel_index(np.argmax(eucl_mat), eucl_mat.shape)\n",
        "    select_p.append(first_2pts[0])\n",
        "    select_p.append(first_2pts[1])\n",
        "    remain_p.remove(first_2pts[0])\n",
        "    remain_p.remove(first_2pts[1])\n",
        "    \n",
        "    for _ in range(cnum_test-2):\n",
        "      select_distance = eucl_mat[select_p, :]\n",
        "      min_distance = select_distance[:, remain_p]\n",
        "      min_distance = np.min(min_distance, axis=0)\n",
        "      max_min_distance = np.max(min_distance)\n",
        "      points = np.argwhere(select_distance == max_min_distance)[:, 1].tolist()\n",
        "      for point in points:\n",
        "        if point in select_p:\n",
        "          pass\n",
        "        else:\n",
        "          select_p.append(point)\n",
        "          remain_p.remove(point)\n",
        "          break\n",
        "      \n",
        "    del eucl_mat, select_distance\n",
        "    \n",
        "    xtrain, ytrain = cx[remain_p], cy[remain_p]\n",
        "    xtest, ytest = cx[select_p], cy[select_p]\n",
        "\n",
        "    del cx, cy\n",
        "\n",
        "    x_train.append(xtrain)\n",
        "    y_train.append(ytrain)\n",
        "    x_test.append(xtest)\n",
        "    y_test.append(ytest)\n",
        "\n",
        "  del x, y\n",
        "  \n",
        "  xtrain = np.concatenate(x_train, axis=0)\n",
        "  ytrain = np.concatenate(y_train, axis=0)\n",
        "  xtest = np.concatenate(x_test, axis=0)\n",
        "  ytest = np.concatenate(y_test, axis=0)\n",
        "\n",
        "  del x_train, y_train, x_test, y_test\n",
        "\n",
        "  return xtrain, xtest, ytrain, ytest"
      ],
      "execution_count": 8,
      "outputs": []
    },
    {
      "cell_type": "markdown",
      "metadata": {
        "id": "xHy88nHcF_17"
      },
      "source": [
        "# Split Function"
      ]
    },
    {
      "cell_type": "code",
      "metadata": {
        "id": "k4CuiGeWe8k1"
      },
      "source": [
        "split_dict = {\"name\" : \"kennard_stone\",         # four options\n",
        "              \"X_data\" : X_data,\n",
        "              \"Y_data\" : Y_data,\n",
        "              \"test_size\" : 0.2,               # test size\n",
        "              \"Y_pred\" : None}                 # required for \"Difficult_samples\"\n",
        "\n",
        "def split(sdict):\n",
        "  name = sdict[\"name\"]\n",
        "  X_data = sdict[\"X_data\"]\n",
        "  Y_data = sdict[\"Y_data\"]\n",
        "  test_size = sdict[\"test_size\"]\n",
        "  Y_pred = sdict[\"Y_pred\"]\n",
        "\n",
        "  if name == \"Normal\":\n",
        "    xtrain, xtest, ytrain, ytest = train_test_split(X_data, Y_data, test_size=test_size)\n",
        "    return xtrain, xtest, ytrain, ytest\n",
        "  elif name == \"Stratified\":\n",
        "    xtrain, xtest, ytrain, ytest = train_test_split(X_data, Y_data, test_size=test_size, stratify=Y_data)\n",
        "    return xtrain, xtest, ytrain, ytest\n",
        "  elif name == \"Difficult_samples\":\n",
        "    xtrain, xtest, ytrain, ytest = difficult_sam(X_data, Y_data, test_size=test_size, ypred=Y_pred)\n",
        "    return xtrain, xtest, ytrain, ytest\n",
        "  elif name == \"kennard_stone\":\n",
        "    xtrain, xtest, ytrain, ytest = kennard_stone(X_data, Y_data, test_size=test_size)\n",
        "    return xtrain, xtest, ytrain, ytest\n",
        "\n",
        "xtrain, xtest, ytrain, ytest = split(split_dict)"
      ],
      "execution_count": 9,
      "outputs": []
    },
    {
      "cell_type": "code",
      "metadata": {
        "id": "JkrqxxjhHs6r",
        "colab": {
          "base_uri": "https://localhost:8080/",
          "height": 1000
        },
        "outputId": "a3403efc-2332-437d-962e-e53ee286dfe4"
      },
      "source": [
        "plot(ytrain)\n",
        "plot(ytest)"
      ],
      "execution_count": 10,
      "outputs": [
        {
          "output_type": "stream",
          "text": [
            "/usr/local/lib/python3.7/dist-packages/seaborn/_decorators.py:43: FutureWarning: Pass the following variables as keyword args: x, y. From version 0.12, the only valid positional argument will be `data`, and passing other arguments without an explicit keyword will result in an error or misinterpretation.\n",
            "  FutureWarning\n"
          ],
          "name": "stderr"
        },
        {
          "output_type": "display_data",
          "data": {
            "image/png": "[encoded data removed]",
            "text/plain": [
              "<Figure size 1440x720 with 1 Axes>"
            ]
          },
          "metadata": {
            "tags": [],
            "needs_background": "light"
          }
        },
        {
          "output_type": "stream",
          "text": [
            "/usr/local/lib/python3.7/dist-packages/seaborn/_decorators.py:43: FutureWarning: Pass the following variables as keyword args: x, y. From version 0.12, the only valid positional argument will be `data`, and passing other arguments without an explicit keyword will result in an error or misinterpretation.\n",
            "  FutureWarning\n"
          ],
          "name": "stderr"
        },
        {
          "output_type": "display_data",
          "data": {
            "image/png": "[encoded data removed]",
            "text/plain": [
              "<Figure size 1440x720 with 1 Axes>"
            ]
          },
          "metadata": {
            "tags": [],
            "needs_background": "light"
          }
        }
      ]
    },
    {
      "cell_type": "code",
      "metadata": {
        "id": "H8h8teI6Fkhy"
      },
      "source": [
        ""
      ],
      "execution_count": null,
      "outputs": []
    }
  ]
}