{
 "cells": [
  {
   "cell_type": "code",
   "execution_count": 1,
   "metadata": {},
   "outputs": [
    {
     "name": "stdout",
     "output_type": "stream",
     "text": [
      "43\n"
     ]
    }
   ],
   "source": [
    "import pandas as pd\n",
    "import numpy as np\n",
    "import os\n",
    "\n",
    "data_dir = 'C:/Users/Sakshee/Documents/DATASETS/Boschs Traffic Sign Recognition/images_gray'\n",
    "category_names = os.listdir(data_dir)\n",
    "num_classes = len(category_names)\n",
    "print(num_classes)\n",
    "\n",
    "images = []\n",
    "for category in category_names:\n",
    "    folder = data_dir + '/' + category\n",
    "    images.append(len(os.listdir(folder)))"
   ]
  },
  {
   "cell_type": "code",
   "execution_count": 2,
   "metadata": {},
   "outputs": [
    {
     "data": {
      "image/png": "[encoded data removed]",
      "text/plain": [
       "<Figure size 1440x720 with 1 Axes>"
      ]
     },
     "metadata": {
      "needs_background": "light"
     },
     "output_type": "display_data"
    }
   ],
   "source": [
    "import seaborn as sns\n",
    "import matplotlib.pyplot as plt\n",
    "\n",
    "plt.figure(figsize=(20,10))\n",
    "sns.barplot(category_names, images).set_title(\"Number of training images per category:\")\n",
    "plt.show()"
   ]
  },
  {
   "cell_type": "code",
   "execution_count": 10,
   "metadata": {},
   "outputs": [
    {
     "name": "stderr",
     "output_type": "stream",
     "text": [
      "Using TensorFlow backend.\n"
     ]
    }
   ],
   "source": [
    "from keras.preprocessing.image import img_to_array, load_img\n",
    "from PIL import Image\n",
    "\n",
    "data = []\n",
    "labels = []\n",
    "img_size = 50\n",
    "\n",
    "for i in range(num_classes):\n",
    "    path = os.path.join(data_dir, str(i))\n",
    "    images = os.listdir(path)\n",
    "    \n",
    "    for a in images:\n",
    "        image = Image.open(path + '/' + a)\n",
    "        image = image.resize((img_size, img_size))\n",
    "        image = np.array(image)\n",
    "        data.append(image)\n",
    "        labels.append(i)           \n",
    "\n",
    "data = np.array(data)      \n",
    "labels = np.array(labels) "
   ]
  },
  {
   "cell_type": "code",
   "execution_count": 22,
   "metadata": {},
   "outputs": [
    {
     "name": "stdout",
     "output_type": "stream",
     "text": [
      "(39209, 50, 50)\n",
      "(39209,)\n"
     ]
    }
   ],
   "source": [
    "print(data.shape)\n",
    "print(labels.shape)"
   ]
  },
  {
   "cell_type": "code",
   "execution_count": 24,
   "metadata": {},
   "outputs": [],
   "source": [
    "data = data.reshape((39209, 50, 50, 1))"
   ]
  },
  {
   "cell_type": "code",
   "execution_count": 25,
   "metadata": {},
   "outputs": [
    {
     "name": "stdout",
     "output_type": "stream",
     "text": [
      "(31367, 50, 50, 1) (7842, 50, 50, 1) (31367,) (7842,)\n"
     ]
    }
   ],
   "source": [
    "from sklearn.model_selection import train_test_split\n",
    "\n",
    "X_train, X_test, Y_train, Y_test = train_test_split(data, labels, test_size=0.2, random_state=42, shuffle=True)\n",
    "\n",
    "X_train = X_train/255 \n",
    "X_test = X_test/255\n",
    "\n",
    "print(X_train.shape, X_test.shape, Y_train.shape, Y_test.shape)"
   ]
  },
  {
   "cell_type": "code",
   "execution_count": 26,
   "metadata": {},
   "outputs": [
    {
     "name": "stdout",
     "output_type": "stream",
     "text": [
      "(31367, 43)\n",
      "(7842, 43)\n"
     ]
    }
   ],
   "source": [
    "import keras\n",
    "from keras.utils import to_categorical\n",
    "\n",
    "Y_train=keras.utils.to_categorical(Y_train, num_classes)\n",
    "Y_test= keras.utils.to_categorical(Y_test, num_classes)\n",
    "\n",
    "print(Y_train.shape)\n",
    "print(Y_test.shape)"
   ]
  },
  {
   "cell_type": "code",
   "execution_count": 27,
   "metadata": {},
   "outputs": [
    {
     "name": "stdout",
     "output_type": "stream",
     "text": [
      "Model: \"sequential_2\"\n",
      "_________________________________________________________________\n",
      "Layer (type)                 Output Shape              Param #   \n",
      "=================================================================\n",
      "conv2d_5 (Conv2D)            (None, 48, 48, 32)        320       \n",
      "_________________________________________________________________\n",
      "conv2d_6 (Conv2D)            (None, 46, 46, 32)        9248      \n",
      "_________________________________________________________________\n",
      "max_pooling2d_3 (MaxPooling2 (None, 23, 23, 32)        0         \n",
      "_________________________________________________________________\n",
      "dropout_4 (Dropout)          (None, 23, 23, 32)        0         \n",
      "_________________________________________________________________\n",
      "conv2d_7 (Conv2D)            (None, 21, 21, 64)        18496     \n",
      "_________________________________________________________________\n",
      "conv2d_8 (Conv2D)            (None, 19, 19, 64)        36928     \n",
      "_________________________________________________________________\n",
      "max_pooling2d_4 (MaxPooling2 (None, 9, 9, 64)          0         \n",
      "_________________________________________________________________\n",
      "dropout_5 (Dropout)          (None, 9, 9, 64)          0         \n",
      "_________________________________________________________________\n",
      "flatten_2 (Flatten)          (None, 5184)              0         \n",
      "_________________________________________________________________\n",
      "dense_3 (Dense)              (None, 512)               2654720   \n",
      "_________________________________________________________________\n",
      "dropout_6 (Dropout)          (None, 512)               0         \n",
      "_________________________________________________________________\n",
      "dense_4 (Dense)              (None, 43)                22059     \n",
      "=================================================================\n",
      "Total params: 2,741,771\n",
      "Trainable params: 2,741,771\n",
      "Non-trainable params: 0\n",
      "_________________________________________________________________\n"
     ]
    }
   ],
   "source": [
    "from keras.models import Sequential, load_model\n",
    "from keras.layers import Conv2D, MaxPool2D, Dense, Flatten, Dropout\n",
    "\n",
    "model = Sequential()\n",
    "\n",
    "model.add(Conv2D(filters=32, kernel_size=(3,3), activation='relu', input_shape=(img_size, img_size, 1)))\n",
    "model.add(Conv2D(filters=32, kernel_size=(3,3), activation='relu'))\n",
    "model.add(MaxPool2D(pool_size=(2, 2)))\n",
    "model.add(Dropout(0.25))\n",
    "\n",
    "model.add(Conv2D(filters=64, kernel_size=(3, 3), activation='relu'))\n",
    "model.add(Conv2D(filters=64, kernel_size=(3, 3), activation='relu'))\n",
    "model.add(MaxPool2D(pool_size=(2, 2)))\n",
    "model.add(Dropout(0.25))\n",
    "\n",
    "model.add(Flatten())\n",
    "model.add(Dense(512, activation='relu'))\n",
    "model.add(Dropout(0.5))\n",
    "model.add(Dense(num_classes, activation='softmax'))\n",
    "\n",
    "model.summary()"
   ]
  },
  {
   "cell_type": "code",
   "execution_count": 28,
   "metadata": {},
   "outputs": [],
   "source": [
    "model.compile(loss='categorical_crossentropy', optimizer='adam', metrics=['accuracy'])"
   ]
  },
  {
   "cell_type": "code",
   "execution_count": 29,
   "metadata": {},
   "outputs": [
    {
     "name": "stdout",
     "output_type": "stream",
     "text": [
      "Train on 31367 samples, validate on 7842 samples\n",
      "Epoch 1/15\n",
      "31367/31367 [==============================] - 324s 10ms/step - loss: 0.9689 - accuracy: 0.7356 - val_loss: 0.0791 - val_accuracy: 0.9821\n",
      "Epoch 2/15\n",
      "31367/31367 [==============================] - 308s 10ms/step - loss: 0.1619 - accuracy: 0.9525 - val_loss: 0.0338 - val_accuracy: 0.9929\n",
      "Epoch 3/15\n",
      "31367/31367 [==============================] - 282s 9ms/step - loss: 0.0971 - accuracy: 0.9704 - val_loss: 0.0292 - val_accuracy: 0.9917\n",
      "Epoch 4/15\n",
      "31367/31367 [==============================] - 272s 9ms/step - loss: 0.0729 - accuracy: 0.9768 - val_loss: 0.0219 - val_accuracy: 0.9943\n",
      "Epoch 5/15\n",
      "31367/31367 [==============================] - 268s 9ms/step - loss: 0.0613 - accuracy: 0.9810 - val_loss: 0.0154 - val_accuracy: 0.9959\n",
      "Epoch 6/15\n",
      "31367/31367 [==============================] - 286s 9ms/step - loss: 0.0544 - accuracy: 0.9826 - val_loss: 0.0177 - val_accuracy: 0.9963\n",
      "Epoch 7/15\n",
      "31367/31367 [==============================] - 266s 8ms/step - loss: 0.0402 - accuracy: 0.9875 - val_loss: 0.0232 - val_accuracy: 0.9954\n",
      "Epoch 8/15\n",
      "31367/31367 [==============================] - 260s 8ms/step - loss: 0.0420 - accuracy: 0.9866 - val_loss: 0.0175 - val_accuracy: 0.9957\n",
      "Epoch 9/15\n",
      "31367/31367 [==============================] - 273s 9ms/step - loss: 0.0359 - accuracy: 0.9893 - val_loss: 0.0153 - val_accuracy: 0.9968\n",
      "Epoch 10/15\n",
      "31367/31367 [==============================] - 295s 9ms/step - loss: 0.0346 - accuracy: 0.9894 - val_loss: 0.0146 - val_accuracy: 0.9960\n",
      "Epoch 11/15\n",
      "31367/31367 [==============================] - 295s 9ms/step - loss: 0.0290 - accuracy: 0.9908 - val_loss: 0.0190 - val_accuracy: 0.9964\n",
      "Epoch 12/15\n",
      "31367/31367 [==============================] - 287s 9ms/step - loss: 0.0303 - accuracy: 0.9911 - val_loss: 0.0200 - val_accuracy: 0.9953\n",
      "Epoch 13/15\n",
      "31367/31367 [==============================] - 326s 10ms/step - loss: 0.0284 - accuracy: 0.9907 - val_loss: 0.0166 - val_accuracy: 0.9969\n",
      "Epoch 14/15\n",
      "31367/31367 [==============================] - 331s 11ms/step - loss: 0.0245 - accuracy: 0.9918 - val_loss: 0.0181 - val_accuracy: 0.9968\n",
      "Epoch 15/15\n",
      "31367/31367 [==============================] - 342s 11ms/step - loss: 0.0246 - accuracy: 0.9923 - val_loss: 0.0169 - val_accuracy: 0.9968\n"
     ]
    }
   ],
   "source": [
    "batch_size = 32\n",
    "epochs = 15\n",
    "\n",
    "history = model.fit(X_train, Y_train,batch_size=batch_size, epochs=epochs, validation_data=(X_test, Y_test) )"
   ]
  },
  {
   "cell_type": "code",
   "execution_count": 31,
   "metadata": {},
   "outputs": [
    {
     "data": {
      "image/png": "[encoded data removed]",
      "text/plain": [
       "<Figure size 432x288 with 1 Axes>"
      ]
     },
     "metadata": {
      "needs_background": "light"
     },
     "output_type": "display_data"
    },
    {
     "data": {
      "image/png": "[encoded data removed]",
      "text/plain": [
       "<Figure size 432x288 with 1 Axes>"
      ]
     },
     "metadata": {
      "needs_background": "light"
     },
     "output_type": "display_data"
    }
   ],
   "source": [
    "plt.figure(0)\n",
    "plt.plot(history.history['accuracy'], label='training accuracy')\n",
    "plt.plot(history.history['val_accuracy'], label='val accuracy')\n",
    "plt.title('Accuracy')\n",
    "plt.xlabel('epochs')\n",
    "plt.ylabel('accuracy')\n",
    "plt.legend()\n",
    "plt.show()\n",
    "\n",
    "plt.figure(1)\n",
    "plt.plot(history.history['loss'], label='training loss')\n",
    "plt.plot(history.history['val_loss'], label='val loss')\n",
    "plt.title('Loss')\n",
    "plt.xlabel('epochs')\n",
    "plt.ylabel('loss')\n",
    "plt.legend()\n",
    "plt.show()"
   ]
  },
  {
   "cell_type": "code",
   "execution_count": null,
   "metadata": {},
   "outputs": [],
   "source": []
  }
 ],
 "metadata": {
  "kernelspec": {
   "display_name": "Python 3.7 (tensorflow)",
   "language": "python",
   "name": "tensorflow"
  },
  "language_info": {
   "codemirror_mode": {
    "name": "ipython",
    "version": 3
   },
   "file_extension": ".py",
   "mimetype": "text/x-python",
   "name": "python",
   "nbconvert_exporter": "python",
   "pygments_lexer": "ipython3",
   "version": "3.7.7"
  }
 },
 "nbformat": 4,
 "nbformat_minor": 4
}
