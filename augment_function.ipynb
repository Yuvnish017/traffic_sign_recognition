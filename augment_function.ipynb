{
  "nbformat": 4,
  "nbformat_minor": 0,
  "metadata": {
    "colab": {
      "name": "augment_function.ipynb",
      "provenance": []
    },
    "kernelspec": {
      "name": "python3",
      "display_name": "Python 3"
    },
    "language_info": {
      "name": "python"
    }
  },
  "cells": [
    {
      "cell_type": "code",
      "metadata": {
        "colab": {
          "base_uri": "https://localhost:8080/"
        },
        "id": "Di6XGZ7RDfd-",
        "outputId": "6aeccea7-f065-4b70-a3d8-e0f835b4e575"
      },
      "source": [
        "import albumentations as A\n",
        "import cv2\n",
        "import matplotlib.pyplot as plt\n",
        "from tensorflow.keras.preprocessing.image import ImageDataGenerator\n",
        "import numpy as np\n",
        "\n",
        "import sys\n",
        "sys.path.insert(0, '/content/drive/My Drive/ColabNotebooks')\n",
        "\n",
        "!git clone https://github.com/UjjwalSaxena/Automold--Road-Augmentation-Library\n",
        "%cd Automold--Road-Augmentation-Library\n",
        "\n",
        "import Automold as am"
      ],
      "execution_count": 1,
      "outputs": [
        {
          "output_type": "stream",
          "text": [
            "fatal: destination path 'Automold--Road-Augmentation-Library' already exists and is not an empty directory.\n",
            "/content/Automold--Road-Augmentation-Library\n"
          ],
          "name": "stdout"
        }
      ]
    },
    {
      "cell_type": "code",
      "metadata": {
        "id": "WZ11zd5UDhBY"
      },
      "source": [
        "train='/content/drive/MyDrive/German_Traffic_Sign_Recognition/training_set/Images_in_jpg_color'\n",
        "test='/content/drive/MyDrive/German_Traffic_Sign_Recognition/Validation_set/test_set'"
      ],
      "execution_count": 2,
      "outputs": []
    },
    {
      "cell_type": "code",
      "metadata": {
        "colab": {
          "base_uri": "https://localhost:8080/"
        },
        "id": "kOIXazHYDmFt",
        "outputId": "e97e5bcf-670e-4246-ebbf-2314bc46927e"
      },
      "source": [
        "datagen = ImageDataGenerator(rescale=1./255,validation_split=0.25)\n",
        "train_generator = datagen.flow_from_directory(train,shuffle = True , batch_size = 64, class_mode = 'categorical',target_size=(32,32),subset='training')\n",
        "val_generator = datagen.flow_from_directory(train,shuffle = True , batch_size = 64, class_mode = 'categorical',target_size=(32,32),subset='validation')\n",
        "test_generator = datagen.flow_from_directory(test,shuffle = True , batch_size = 64, class_mode = 'categorical',target_size=(32,32))"
      ],
      "execution_count": 3,
      "outputs": [
        {
          "output_type": "stream",
          "text": [
            "Found 29416 images belonging to 43 classes.\n",
            "Found 9793 images belonging to 43 classes.\n",
            "Found 12633 images belonging to 43 classes.\n"
          ],
          "name": "stdout"
        }
      ]
    },
    {
      "cell_type": "code",
      "metadata": {
        "colab": {
          "base_uri": "https://localhost:8080/",
          "height": 283
        },
        "id": "DZoVkMB4Dmlp",
        "outputId": "ab8f8994-8474-4de8-f4a3-7668725266f2"
      },
      "source": [
        "image=train_generator.next()[0][2]\n",
        "plt.imshow(image)"
      ],
      "execution_count": 4,
      "outputs": [
        {
          "output_type": "execute_result",
          "data": {
            "text/plain": [
              "<matplotlib.image.AxesImage at 0x7ff8a1216e10>"
            ]
          },
          "metadata": {
            "tags": []
          },
          "execution_count": 4
        },
        {
          "output_type": "display_data",
          "data": {
            "image/png": "[encoded data removed]",
            "text/plain": [
              "<Figure size 432x288 with 1 Axes>"
            ]
          },
          "metadata": {
            "tags": [],
            "needs_background": "light"
          }
        }
      ]
    },
    {
      "cell_type": "code",
      "metadata": {
        "id": "4Ilwyt-XDskf"
      },
      "source": [
        "def visualize(image):\n",
        "    plt.figure(figsize=(4,4))\n",
        "    plt.axis('off')\n",
        "    plt.imshow(image)"
      ],
      "execution_count": 5,
      "outputs": []
    },
    {
      "cell_type": "code",
      "metadata": {
        "id": "GqSOLb5bD-UR"
      },
      "source": [
        "all_aug=['CLAHE', 'Blur', 'Cutout','GaussNoise','HueSaturationValue','ChannelShuffle','GridDistortion','MedianBlur','Normalize','PadIfNeeded','RandomBrightness','RandomBrightnessContrast','RandomContrast','ToGray','ShiftScaleRotate','add_rain','add_snow','add_shadow','darken','random_brightness']"
      ],
      "execution_count": 6,
      "outputs": []
    },
    {
      "cell_type": "code",
      "metadata": {
        "id": "32_Gf03AD_L1"
      },
      "source": [
        "def augmentation(image):\n",
        "  \n",
        "  image *= 255\n",
        "  image = image.astype(np.uint8)\n",
        "\n",
        "  input_aug=[]\n",
        "  n=int(input('Number of Augmentations : '))\n",
        "  for n in range(0,n):\n",
        "    input_aug.append(input('Enter type of augmentation : '))\n",
        "  transforms=[]\n",
        "  for i in input_aug:\n",
        "    if i in all_aug:\n",
        "      if i=='CLAHE':\n",
        "        clip_limit=int(input('Enter the clip limit : '))\n",
        "        tile_grid_x,tile_grid_y = int(input(\"Input tile grid size : \")),int(input(\"Input tile grid size : \"))\n",
        "        tile_grid_size = (tile_grid_x,tile_grid_y)\n",
        "        prob=float(input('Enter the probability with which it is to be applied : '))\n",
        "        transforms.append(A.CLAHE(clip_limit=clip_limit, tile_grid_size=tile_grid_size, always_apply=False, p=prob))\n",
        "      elif i=='Cutout':\n",
        "        num_holes=int(input('Enter the number of holes : '))\n",
        "        max_h_size,max_w_size=int(input('Enter the maximum height : ')), int(input('Enter the maximum width : '))\n",
        "        prob=float(input('Enter the probability with which it is to be applied : '))\n",
        "        transforms.append(A.Cutout(num_holes=num_holes, max_h_size=max_h_size, max_w_size=max_w_size, always_apply=False, p=prob))\n",
        "      elif i=='GaussNoise':\n",
        "        var_limit_x,var_limit_y = int(input(\"Input var limit size : \")),int(input(\"Input val limit : \"))\n",
        "        var_limit = (var_limit_x,var_limit_y)\n",
        "        prob=float(input('Enter the probability with which it is to be applied : '))\n",
        "        transforms.append( A.GaussNoise (var_limit=var_limit,  always_apply=False, p=prob))\n",
        "      elif i=='HueSaturationValue':\n",
        "        hue_shift_limit=int(input('Enter hue shift limit : '))\n",
        "        sat_shift_limit=int(input('Enter sat shift limit : '))\n",
        "        val_shift_limit=int(input('Enter val shift limit : '))\n",
        "        prob=float(input('Enter the probability with which it is to be applied : '))\n",
        "        transforms.append(A.HueSaturationValue (hue_shift_limit=hue_shift_limit, sat_shift_limit=sat_shift_limit, val_shift_limit=val_shift_limit, always_apply=False, p=prob))\n",
        "      elif i=='Blur':\n",
        "        blur_limit=int(input('Enter the blur limit : '))\n",
        "        prob=float(input('Enter the probability with which it is to be applied : '))\n",
        "        transforms.append(A.Blur (blur_limit=blur_limit, always_apply=False, p=prob)) \n",
        "      elif i=='ChannelShuffle':\n",
        "        prob=float(input('Enter the probability with which it is to be applied : '))\n",
        "        transforms.append(A.ChannelShuffle(p=prob))\n",
        "      elif i=='GridDistortion':\n",
        "        num_steps=int(input('Enter the number of steps : '))\n",
        "        distort_limit=float(input('Enter the distort limit : '))\n",
        "        prob=float(input('Enter the probability with which it is to be applied : '))\n",
        "        transforms.append(A.GridDistortion (num_steps=num_steps, distort_limit=distort_limit, interpolation=1, border_mode=4,always_apply=False, p=prob))\n",
        "      elif i=='MedianBlur':\n",
        "        blur_limit=int(input('Enter the blur limit : '))\n",
        "        prob=float(input('Enter the probability with which it is to be applied : '))\n",
        "        transforms.append(A.MedianBlur (blur_limit=blur_limit, always_apply=False, p=prob))\n",
        "      elif i=='Normalize':\n",
        "        prob=float(input('Enter the probability with which it is to be applied : '))\n",
        "        transforms.append(A.Normalize (mean=(0.12, 0.13, 0.14), std=(0.668, 0.699, 0.7), max_pixel_value=70, always_apply=False, p=prob))\n",
        "      elif i=='PadIfNeeded':\n",
        "        prob=float(input('Enter the probability with which it is to be applied : '))\n",
        "        transforms.append(A.PadIfNeeded (min_height=32, min_width=32,border_mode=4, value=None,  always_apply=False, p=prob))\n",
        "      elif i=='RandomBrightness':\n",
        "        limit=float(input('Enter the limit for brightness'))\n",
        "        prob=float(input('Enter the probability with which it is to be applied : '))\n",
        "        transforms.append(A.RandomBrightness (limit=limit, always_apply=False, p=prob))\n",
        "      elif i=='RandomBrightnessContrast':\n",
        "        brightness_limit=float(input('Enter the limit for brightness'))\n",
        "        contrast_limit=float(input('Enter the limit for contrast'))\n",
        "        prob=float(input('Enter the probability with which it is to be applied : '))\n",
        "        transforms.append(A.RandomBrightnessContrast (brightness_limit=brightness_limit, contrast_limit=contrast_limit, always_apply=False, p=prob))\n",
        "      elif i=='RandomContrast':\n",
        "        limit=float(input('Enter the limit for contrast'))\n",
        "        prob=float(input('Enter the probability with which it is to be applied : '))\n",
        "        transforms.append(A.RandomContrast (limit=limit, always_apply=False, p=prob))\n",
        "      elif i=='ToGray':\n",
        "        prob=float(input('Enter the probability with which it is to be applied : '))\n",
        "        transforms.append(A.ToGray(p=prob))\n",
        "      elif i=='ShiftScaleRotate':\n",
        "        shift_limit=float(input('Enter the shift limit'))\n",
        "        rotate_limit=int(input('Enter the rotation limit'))\n",
        "        prob=float(input('Enter the probability with which it is to be applied : '))\n",
        "        transforms.append(A.ShiftScaleRotate (shift_limit=shift_limit, scale_limit=0.1, rotate_limit=rotate_limit, interpolation=1, border_mode=4, always_apply=False, p=prob))\n",
        "      elif i=='add_rain':\n",
        "        rain_type=input('Enter the type of rain (heavy/drizzle) : ')\n",
        "        image= am.add_rain(image, rain_type=rain_type, slant=-1,drop_length=1,drop_width=1)\n",
        "      elif i=='add_snow':\n",
        "        snow_coeff=float(input('Enter the snow coefficient : '))\n",
        "        image= am.add_snow(image, snow_coeff=snow_coeff) \n",
        "      elif i=='add_shadow':\n",
        "        no_of_shadows=int(input('Enter the number of shadows : '))\n",
        "        shadow_dimension=int(input('Enter the dimension of the shadow'))\n",
        "        image= am.add_shadow(image, no_of_shadows=no_of_shadows, shadow_dimension=shadow_dimension) \n",
        "      elif i=='darken':\n",
        "        darkness_coeff=float(input('Enter the darkness coefficient : '))\n",
        "        image= am.darken(image, darkness_coeff=darkness_coeff)\n",
        "   \n",
        "  transform=A.Compose(transforms)\n",
        "  transformed = transform(image=image)\n",
        "  transformed_image = transformed[\"image\"]\n",
        "  return transformed_image"
      ],
      "execution_count": 7,
      "outputs": []
    },
    {
      "cell_type": "code",
      "metadata": {
        "colab": {
          "base_uri": "https://localhost:8080/",
          "height": 349
        },
        "id": "TkNt8Q6KEHFY",
        "outputId": "b71f5724-dba1-40e9-8173-3f09599b1e8c"
      },
      "source": [
        "visualize(augmentation(image))"
      ],
      "execution_count": 8,
      "outputs": [
        {
          "output_type": "stream",
          "text": [
            "Number of Augmentations : 1\n",
            "Enter type of augmentation : CLAHE\n",
            "Enter the clip limit : 8\n",
            "Input tile grid size : 10\n",
            "Input tile grid size : 10\n",
            "Enter the probability with which it is to be applied : 0.25\n"
          ],
          "name": "stdout"
        },
        {
          "output_type": "display_data",
          "data": {
            "image/png": "[encoded data removed]",
            "text/plain": [
              "<Figure size 288x288 with 1 Axes>"
            ]
          },
          "metadata": {
            "tags": [],
            "needs_background": "light"
          }
        }
      ]
    },
    {
      "cell_type": "code",
      "metadata": {
        "id": "8FIXvqxIEJfl"
      },
      "source": [
        ""
      ],
      "execution_count": null,
      "outputs": []
    }
  ]
}