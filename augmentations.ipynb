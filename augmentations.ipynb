{
  "nbformat": 4,
  "nbformat_minor": 0,
  "metadata": {
    "colab": {
      "name": "augmentations.ipynb",
      "provenance": []
    },
    "kernelspec": {
      "name": "python3",
      "display_name": "Python 3"
    },
    "language_info": {
      "name": "python"
    }
  },
  "cells": [
    {
      "cell_type": "code",
      "metadata": {
        "colab": {
          "base_uri": "https://localhost:8080/"
        },
        "id": "dqTfAJeAnwtI",
        "outputId": "75e1f3b0-f6fe-4b47-c442-17a9131d3592"
      },
      "source": [
        "import albumentations as A\n",
        "import cv2\n",
        "import matplotlib.pyplot as plt\n",
        "from tensorflow.keras.preprocessing.image import ImageDataGenerator\n",
        "import numpy as np\n",
        "\n",
        "import sys\n",
        "sys.path.insert(0, '/content/drive/My Drive/ColabNotebooks')\n",
        "\n",
        "!git clone https://github.com/UjjwalSaxena/Automold--Road-Augmentation-Library\n",
        "%cd Automold--Road-Augmentation-Library\n",
        "\n",
        "import Automold as am\n",
        "import Helpers as hp"
      ],
      "execution_count": 32,
      "outputs": [
        {
          "output_type": "stream",
          "text": [
            "Cloning into 'Automold--Road-Augmentation-Library'...\n",
            "remote: Enumerating objects: 170, done.\u001b[K\n",
            "remote: Total 170 (delta 0), reused 0 (delta 0), pack-reused 170\u001b[K\n",
            "Receiving objects: 100% (170/170), 59.14 MiB | 31.22 MiB/s, done.\n",
            "Resolving deltas: 100% (58/58), done.\n",
            "/content/Automold--Road-Augmentation-Library/Automold--Road-Augmentation-Library\n"
          ],
          "name": "stdout"
        }
      ]
    },
    {
      "cell_type": "code",
      "metadata": {
        "id": "6pr5g3aWn2y8"
      },
      "source": [
        "train='/content/drive/MyDrive/German_Traffic_Sign_Recognition/training_set/Images_in_jpg_color'\n",
        "test='/content/drive/MyDrive/German_Traffic_Sign_Recognition/Validation_set/test_set'"
      ],
      "execution_count": 33,
      "outputs": []
    },
    {
      "cell_type": "code",
      "metadata": {
        "colab": {
          "base_uri": "https://localhost:8080/"
        },
        "id": "CkN0Lylfn6SX",
        "outputId": "636a1f4b-8734-4347-f2ec-701e184ec6e5"
      },
      "source": [
        "datagen = ImageDataGenerator(rescale=1./255,validation_split=0.25)\n",
        "train_generator = datagen.flow_from_directory(train,shuffle = True , batch_size = 64, class_mode = 'categorical',target_size=(32,32),subset='training')\n",
        "val_generator = datagen.flow_from_directory(train,shuffle = True , batch_size = 64, class_mode = 'categorical',target_size=(32,32),subset='validation')\n",
        "test_generator = datagen.flow_from_directory(test,shuffle = True , batch_size = 64, class_mode = 'categorical',target_size=(32,32))"
      ],
      "execution_count": 34,
      "outputs": [
        {
          "output_type": "stream",
          "text": [
            "Found 29416 images belonging to 43 classes.\n",
            "Found 9793 images belonging to 43 classes.\n",
            "Found 12633 images belonging to 43 classes.\n"
          ],
          "name": "stdout"
        }
      ]
    },
    {
      "cell_type": "code",
      "metadata": {
        "colab": {
          "base_uri": "https://localhost:8080/",
          "height": 283
        },
        "id": "q4xgI52xn8Cq",
        "outputId": "e3078700-98c3-467a-9cad-6b832bbbe99b"
      },
      "source": [
        "image=train_generator.next()[0][2]\n",
        "plt.imshow(image)"
      ],
      "execution_count": 62,
      "outputs": [
        {
          "output_type": "execute_result",
          "data": {
            "text/plain": [
              "<matplotlib.image.AxesImage at 0x7f60a22ecb50>"
            ]
          },
          "metadata": {
            "tags": []
          },
          "execution_count": 62
        },
        {
          "output_type": "display_data",
          "data": {
            "image/png": "[encoded data removed]",
            "text/plain": [
              "<Figure size 432x288 with 1 Axes>"
            ]
          },
          "metadata": {
            "tags": [],
            "needs_background": "light"
          }
        }
      ]
    },
    {
      "cell_type": "code",
      "metadata": {
        "colab": {
          "base_uri": "https://localhost:8080/",
          "height": 283
        },
        "id": "cCVhNl7qoFSU",
        "outputId": "0a6d7ccc-b1da-484e-e74d-2705079a2073"
      },
      "source": [
        "image *= 255\n",
        "image = image.astype(np.uint8)\n",
        "plt.imshow(image)"
      ],
      "execution_count": 63,
      "outputs": [
        {
          "output_type": "execute_result",
          "data": {
            "text/plain": [
              "<matplotlib.image.AxesImage at 0x7f60a225cf90>"
            ]
          },
          "metadata": {
            "tags": []
          },
          "execution_count": 63
        },
        {
          "output_type": "display_data",
          "data": {
            "image/png": "[encoded data removed]",
            "text/plain": [
              "<Figure size 432x288 with 1 Axes>"
            ]
          },
          "metadata": {
            "tags": [],
            "needs_background": "light"
          }
        }
      ]
    },
    {
      "cell_type": "code",
      "metadata": {
        "id": "seysuXRKoLR-"
      },
      "source": [
        "def visualize(image):\n",
        "    plt.figure(figsize=(4,4))\n",
        "    plt.axis('off')\n",
        "    plt.imshow(image)"
      ],
      "execution_count": 64,
      "outputs": []
    },
    {
      "cell_type": "code",
      "metadata": {
        "id": "xD5pW7H2ogIF"
      },
      "source": [
        "all_aug=['CLAHE', 'Blur', 'Cutout','GaussNoise','HueSaturationValue','ChannelShuffle','GridDistortion','MedianBlur','Normalize','PadIfNeeded','RandomBrightness','RandomBrightnessContrast','RandomContrast','ToGray','ShiftScaleRotate','add_rain','add_snow','add_shadow','darken','random_brightness']"
      ],
      "execution_count": 65,
      "outputs": []
    },
    {
      "cell_type": "code",
      "metadata": {
        "colab": {
          "base_uri": "https://localhost:8080/"
        },
        "id": "3oSXFWgWoYUv",
        "outputId": "0a3bd5c5-68d6-46cd-a6db-830429af7143"
      },
      "source": [
        "input_aug=[]\n",
        "n=int(input('Number of Augmentations : '))\n",
        "for n in range(0,n):\n",
        "  input_aug.append(input('Enter type of augmentation : '))"
      ],
      "execution_count": 66,
      "outputs": [
        {
          "output_type": "stream",
          "text": [
            "Number of Augmentations : 1\n",
            "Enter type of augmentation : CLAHE\n"
          ],
          "name": "stdout"
        }
      ]
    },
    {
      "cell_type": "code",
      "metadata": {
        "id": "QPzvAaIxokG6"
      },
      "source": [
        "transforms=[]"
      ],
      "execution_count": 67,
      "outputs": []
    },
    {
      "cell_type": "code",
      "metadata": {
        "colab": {
          "base_uri": "https://localhost:8080/"
        },
        "id": "1Gc49H_qoPCk",
        "outputId": "9e69cd64-0f82-4ddd-89cc-e619da85acf3"
      },
      "source": [
        "for i in input_aug:\n",
        "  if i in all_aug:\n",
        "    if i=='CLAHE':\n",
        "      clip_limit=int(input('Enter the clip limit : '))\n",
        "      tile_grid_x,tile_grid_y = int(input(\"Input tile grid size : \")),int(input(\"Input tile grid size : \"))\n",
        "      tile_grid_size = (tile_grid_x,tile_grid_y)\n",
        "      prob=float(input('Enter the probability with which it is to be applied : '))\n",
        "      transforms.append(A.CLAHE(clip_limit=clip_limit, tile_grid_size=tile_grid_size, always_apply=False, p=prob))\n",
        "    elif i=='Cutout':\n",
        "      num_holes=int(input('Enter the number of holes : '))\n",
        "      max_h_size,max_w_size=int(input('Enter the maximum height : ')), int(input('Enter the maximum width : '))\n",
        "      prob=float(input('Enter the probability with which it is to be applied : '))\n",
        "      transforms.append(A.Cutout(num_holes=num_holes, max_h_size=max_h_size, max_w_size=max_w_size, always_apply=False, p=prob))\n",
        "    elif i=='GaussNoise':\n",
        "      var_limit_x,var_limit_y = int(input(\"Input var limit size : \")),int(input(\"Input val limit : \"))\n",
        "      var_limit = (var_limit_x,var_limit_y)\n",
        "      prob=float(input('Enter the probability with which it is to be applied : '))\n",
        "      transforms.append( A.GaussNoise (var_limit=var_limit,  always_apply=False, p=prob))\n",
        "    elif i=='HueSaturationValue':\n",
        "      hue_shift_limit=int(input('Enter hue shift limit : '))\n",
        "      sat_shift_limit=int(input('Enter sat shift limit : '))\n",
        "      val_shift_limit=int(input('Enter val shift limit : '))\n",
        "      prob=float(input('Enter the probability with which it is to be applied : '))\n",
        "      transforms.append(A.HueSaturationValue (hue_shift_limit=hue_shift_limit, sat_shift_limit=sat_shift_limit, val_shift_limit=val_shift_limit, always_apply=False, p=prob))\n",
        "    elif i=='Blur':\n",
        "      blur_limit=int(input('Enter the blur limit : '))\n",
        "      prob=float(input('Enter the probability with which it is to be applied : '))\n",
        "      transforms.append(A.Blur (blur_limit=blur_limit, always_apply=False, p=prob)) \n",
        "    elif i=='ChannelShuffle':\n",
        "      prob=float(input('Enter the probability with which it is to be applied : '))\n",
        "      transforms.append(A.ChannelShuffle(p=prob))\n",
        "    elif i=='GridDistortion':\n",
        "      num_steps=int(input('Enter the number of steps : '))\n",
        "      distort_limit=float(input('Enter the distort limit : '))\n",
        "      prob=float(input('Enter the probability with which it is to be applied : '))\n",
        "      transforms.append(A.GridDistortion (num_steps=num_steps, distort_limit=distort_limit, interpolation=1, border_mode=4,always_apply=False, p=prob))\n",
        "    elif i=='MedianBlur':\n",
        "      blur_limit=int(input('Enter the blur limit : '))\n",
        "      prob=float(input('Enter the probability with which it is to be applied : '))\n",
        "      transforms.append(A.MedianBlur (blur_limit=blur_limit, always_apply=False, p=prob))\n",
        "    elif i=='Normalize':\n",
        "      prob=float(input('Enter the probability with which it is to be applied : '))\n",
        "      transforms.append(A.Normalize (mean=(0.12, 0.13, 0.14), std=(0.668, 0.699, 0.7), max_pixel_value=70, always_apply=False, p=prob))\n",
        "    elif i=='PadIfNeeded':\n",
        "      prob=float(input('Enter the probability with which it is to be applied : '))\n",
        "      transforms.append(A.PadIfNeeded (min_height=32, min_width=32,border_mode=4, value=None,  always_apply=False, p=prob))\n",
        "    elif i=='RandomBrightness':\n",
        "      limit=float(input('Enter the limit for brightness'))\n",
        "      prob=float(input('Enter the probability with which it is to be applied : '))\n",
        "      transforms.append(A.RandomBrightness (limit=limit, always_apply=False, p=prob))\n",
        "    elif i=='RandomBrightnessContrast':\n",
        "      brightness_limit=float(input('Enter the limit for brightness'))\n",
        "      contrast_limit=float(input('Enter the limit for contrast'))\n",
        "      prob=float(input('Enter the probability with which it is to be applied : '))\n",
        "      transforms.append(A.RandomBrightnessContrast (brightness_limit=brightness_limit, contrast_limit=contrast_limit, always_apply=False, p=prob))\n",
        "    elif i=='RandomContrast':\n",
        "      limit=float(input('Enter the limit for contrast'))\n",
        "      prob=float(input('Enter the probability with which it is to be applied : '))\n",
        "      transforms.append(A.RandomContrast (limit=limit, always_apply=False, p=prob))\n",
        "    elif i=='ToGray':\n",
        "      prob=float(input('Enter the probability with which it is to be applied : '))\n",
        "      transforms.append(A.ToGray(p=prob))\n",
        "    elif i=='ShiftScaleRotate':\n",
        "      shift_limit=float(input('Enter the shift limit'))\n",
        "      rotate_limit=int(input('Enter the rotation limit'))\n",
        "      prob=float(input('Enter the probability with which it is to be applied : '))\n",
        "      transforms.append(A.ShiftScaleRotate (shift_limit=shift_limit, scale_limit=0.1, rotate_limit=rotate_limit, interpolation=1, border_mode=4, always_apply=False, p=prob))\n",
        "    elif i=='add_rain':\n",
        "      rain_type=input('Enter the type of rain (heavy/drizzle) : ')\n",
        "      image= am.add_rain(image, rain_type=rain_type, slant=-1,drop_length=1,drop_width=1)\n",
        "    elif i=='add_snow':\n",
        "      snow_coeff=float(input('Enter the snow coefficient : '))\n",
        "      image= am.add_snow(image, snow_coeff=snow_coeff) \n",
        "    elif i=='add_shadow':\n",
        "      no_of_shadows=int(input('Enter the number of shadows : '))\n",
        "      shadow_dimension=int(input('Enter the dimension of the shadow'))\n",
        "      image= am.add_shadow(image, no_of_shadows=no_of_shadows, shadow_dimension=shadow_dimension) \n",
        "    elif i=='darken':\n",
        "      darkness_coeff=float(input('Enter the darkness coefficient : '))\n",
        "      image= am.darken(image, darkness_coeff=darkness_coeff)"
      ],
      "execution_count": 68,
      "outputs": [
        {
          "output_type": "stream",
          "text": [
            "Enter the clip limit : 8\n",
            "Input tile grid size : 10\n",
            "Input tile grid size : 10\n",
            "Enter the probability with which it is to be applied : 0.25\n"
          ],
          "name": "stdout"
        }
      ]
    },
    {
      "cell_type": "code",
      "metadata": {
        "colab": {
          "base_uri": "https://localhost:8080/",
          "height": 248
        },
        "id": "qZDM3SRfpGYa",
        "outputId": "05d820c0-f91d-4679-d357-7a04ef296ccf"
      },
      "source": [
        "transform=A.Compose(transforms)\n",
        "transformed = transform(image=image)\n",
        "transformed_image = transformed[\"image\"]\n",
        "visualize(transformed_image)"
      ],
      "execution_count": 69,
      "outputs": [
        {
          "output_type": "display_data",
          "data": {
            "image/png": "[encoded data removed]",
            "text/plain": [
              "<Figure size 288x288 with 1 Axes>"
            ]
          },
          "metadata": {
            "tags": [],
            "needs_background": "light"
          }
        }
      ]
    },
    {
      "cell_type": "code",
      "metadata": {
        "id": "RVeYLt7r1V-4"
      },
      "source": [
        ""
      ],
      "execution_count": 54,
      "outputs": []
    }
  ]
}